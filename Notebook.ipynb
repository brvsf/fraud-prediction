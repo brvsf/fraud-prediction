{
 "cells": [
  {
   "cell_type": "markdown",
   "metadata": {},
   "source": [
    "# Fraud Detection"
   ]
  },
  {
   "cell_type": "code",
   "execution_count": 6,
   "metadata": {},
   "outputs": [],
   "source": [
    "## Imports:\n",
    "\n",
    "import numpy as np\n",
    "import pandas as pd\n",
    "import matplotlib.pyplot as plt\n",
    "import seaborn as sns\n",
    "\n",
    "from sklearn.preprocessing import StandardScaler, OneHotEncoder\n",
    "from sklearn.compose import ColumnTransformer, make_column_selector\n",
    "from sklearn.pipeline import Pipeline\n",
    "from xgboost import XGBClassifier\n",
    "from sklearn.model_selection import train_test_split, cross_validate, learning_curve, StratifiedKFold, RandomizedSearchCV\n",
    "from imblearn.under_sampling import RandomUnderSampler\n",
    "from imblearn.over_sampling import SMOTE\n",
    "from imblearn.pipeline import Pipeline as ImbPipeline\n",
    "from sklearn.linear_model import LogisticRegression\n",
    "from sklearn.metrics import PrecisionRecallDisplay, precision_recall_curve\n",
    "from sklearn.metrics import accuracy_score, recall_score, precision_score, roc_auc_score, f1_score, classification_report"
   ]
  },
  {
   "cell_type": "markdown",
   "metadata": {},
   "source": [
    "## Dataset exploration"
   ]
  },
  {
   "cell_type": "markdown",
   "metadata": {},
   "source": [
    "### [Dataset](https://www.kaggle.com/datasets/chitwanmanchanda/fraudulent-transactions-data) Description: Fraudulent Transactions Prediction\n",
    "\n",
    "### Context  \n",
    "The dataset supports the development of a model to predict fraudulent transactions for a financial company. Insights derived from the model are intended to inform an actionable plan. The data is in CSV format, containing **6,362,620 rows** and **10 columns**, simulating 30 days of transactions.\n",
    "\n",
    "### Content  \n",
    "The dataset includes the following features:\n",
    "\n",
    "- **`step`**: Time unit in hours (1 step = 1 hour, total steps = 744).\n",
    "- **`type`**: Type of transaction - `CASH-IN`, `CASH-OUT`, `DEBIT`, `PAYMENT`, `TRANSFER`.\n",
    "- **`amount`**: Transaction amount in local currency.\n",
    "- **`nameOrig`**: Customer initiating the transaction.\n",
    "- **`oldbalanceOrg`**: Initial balance of the sender before the transaction.\n",
    "- **`newbalanceOrig`**: New balance of the sender after the transaction.\n",
    "- **`nameDest`**: Recipient of the transaction.\n",
    "- **`oldbalanceDest`**: Initial balance of the recipient before the transaction (missing for merchants, indicated by names starting with \"M\").\n",
    "- **`newbalanceDest`**: New balance of the recipient after the transaction (missing for merchants).\n",
    "- **`isFraud`**: Indicates if the transaction was fraudulent (simulated fraudulent behavior involves taking control of accounts to transfer and withdraw funds).\n",
    "- **`isFlaggedFraud`**: Flags illegal attempts, defined as transferring amounts exceeding 200,000 in a single transaction.\n"
   ]
  },
  {
   "cell_type": "code",
   "execution_count": 9,
   "metadata": {},
   "outputs": [
    {
     "name": "stdout",
     "output_type": "stream",
     "text": [
      "Shape: (6362620, 11)\n"
     ]
    }
   ],
   "source": [
    "data = pd.read_csv('raw_data/Fraud.csv')\n",
    "\n",
    "print(f\"Shape: {data.shape}\")\n",
    "data.head(3)\n",
    "\n",
    "# Features and target\n",
    "X = data.drop(columns=['isFraud', 'isFlaggedFraud', 'nameOrig', 'nameDest'])\n",
    "y = data['isFraud']"
   ]
  },
  {
   "cell_type": "code",
   "execution_count": null,
   "metadata": {},
   "outputs": [],
   "source": [
    "# Checking for null values\n",
    "data.isna().sum()"
   ]
  },
  {
   "cell_type": "code",
   "execution_count": null,
   "metadata": {},
   "outputs": [],
   "source": [
    "data.info()"
   ]
  },
  {
   "cell_type": "code",
   "execution_count": null,
   "metadata": {},
   "outputs": [],
   "source": [
    "# Check for class imbalance\n",
    "non_fraudulent = len(data[data['isFraud'] == 0])\n",
    "fraudulent = len(data[data['isFraud'] == 1])\n",
    "\n",
    "non_fraudulent_perc = np.round(non_fraudulent/data.shape[0], decimals=4)\n",
    "fraudulent_perc = np.round(fraudulent/data.shape[0], decimals=4)\n",
    "\n",
    "print(f\"Non-fraudulent transactions: {non_fraudulent}\\nFraudulent transactions: {fraudulent}\")\n",
    "\n",
    "print(\"_\"*100)\n",
    "\n",
    "print(f\"Non-fraudulent transactions: {non_fraudulent_perc}\\nFraudulent transactions: {fraudulent_perc}\")"
   ]
  },
  {
   "cell_type": "code",
   "execution_count": 6,
   "metadata": {},
   "outputs": [],
   "source": [
    "# Checking if all FlaggedFrauds are classified as 1 in isFrauds column\n",
    "assert len(data[(data['isFlaggedFraud'] == 1) & (data['isFraud'] == 1)]) == len(data[data['isFlaggedFraud'] == 1])"
   ]
  },
  {
   "cell_type": "code",
   "execution_count": null,
   "metadata": {},
   "outputs": [],
   "source": [
    "for col in ['type', '']:\n",
    "    print(data[col].unique)"
   ]
  },
  {
   "cell_type": "markdown",
   "metadata": {},
   "source": [
    "### EDA"
   ]
  },
  {
   "cell_type": "code",
   "execution_count": 23,
   "metadata": {},
   "outputs": [],
   "source": [
    "def plot_isfraud_value_count(data : pd.DataFrame) -> None:\n",
    "    \"\"\"\n",
    "    Plots a bar chart showing the counts of unique values in the 'isFraud' column of a DataFrame.\n",
    "\n",
    "    This function creates a bar plot using Seaborn to visualize the distribution of values (0 and 1)\n",
    "    in the 'isFraud' column of the given DataFrame. The chart includes:\n",
    "    - Custom annotations above each bar displaying the exact count.\n",
    "    - Customized y-axis tick labels for better readability.\n",
    "    - A title and axis labels for clarity.\n",
    "\n",
    "    Parameters:\n",
    "    -----------\n",
    "    data : pd.DataFrame\n",
    "        A pandas DataFrame containing the 'isFraud' column with binary values (0 and 1).\n",
    "\n",
    "    Returns:\n",
    "    --------\n",
    "    None\n",
    "        This function displays the plot but does not return any value.\n",
    "\n",
    "    Notes:\n",
    "    ------\n",
    "    - The function assumes the 'isFraud' column exists in the DataFrame and contains binary values.\n",
    "    - The y-axis tick intervals are set to 1,000,000 by default and may require adjustment for datasets\n",
    "      with smaller counts.\n",
    "    \"\"\"\n",
    "    value_counts = data['isFraud'].value_counts()\n",
    "\n",
    "    ax = sns.barplot(x=value_counts.index, y=value_counts.values, color='maroon')\n",
    "\n",
    "    for index, value in enumerate(value_counts.values):\n",
    "        ax.text(index, value + max(value_counts.values) * 0.02,\n",
    "                str(value),\n",
    "                ha='center', fontsize=12, fontweight='bold')\n",
    "\n",
    "    ax.set_yticks(range(0, max(value_counts.values) + 1, 1000000))\n",
    "    ax.set_yticklabels([f\"{tick}\" for tick in ax.get_yticks()])\n",
    "    plt.xlabel('isFraud')\n",
    "    plt.ylabel('Count')\n",
    "    plt.title('Value count in isFraud Column')\n",
    "    plt.ylim(0, max(value_counts.values) * 1.1)\n",
    "    plt.show()\n",
    "\n",
    "    return None"
   ]
  },
  {
   "cell_type": "code",
   "execution_count": null,
   "metadata": {},
   "outputs": [],
   "source": [
    "#plot_isfraud_value_count(data)"
   ]
  },
  {
   "cell_type": "code",
   "execution_count": 24,
   "metadata": {},
   "outputs": [],
   "source": [
    "# checking for correlations in numerical features:\n",
    "\n",
    "def plot_correlation_map(data: pd.DataFrame) -> None:\n",
    "    \"\"\"\n",
    "    Plots a heatmap of the correlation matrix for a given DataFrame.\n",
    "\n",
    "    This function computes the correlation matrix of the numeric columns in the input DataFrame,\n",
    "    then visualizes it using a heatmap with the upper triangle masked. The heatmap displays\n",
    "    correlation coefficients as annotated values.\n",
    "\n",
    "    Parameters:\n",
    "    -----------\n",
    "    data : pd.DataFrame\n",
    "        The input DataFrame containing numeric data for which the correlation matrix is calculated.\n",
    "\n",
    "    Returns:\n",
    "    --------\n",
    "    None\n",
    "        This function does not return any value. It displays a heatmap plot of the correlation matrix.\n",
    "    \"\"\"\n",
    "    corr = data.corr(numeric_only=True)\n",
    "    trimask = np.triu(np.ones_like(corr, dtype=bool))\n",
    "\n",
    "    sns.heatmap(data=corr, annot=True, mask=trimask,square=True, linewidth=.1, fmt=\".2f\")\n",
    "\n",
    "    plt.tight_layout()\n",
    "    plt.show()"
   ]
  },
  {
   "cell_type": "code",
   "execution_count": null,
   "metadata": {},
   "outputs": [],
   "source": [
    "plot_correlation_map(data)"
   ]
  },
  {
   "cell_type": "markdown",
   "metadata": {},
   "source": [
    "## Preprocessing"
   ]
  },
  {
   "cell_type": "markdown",
   "metadata": {},
   "source": [
    "### UnderSampling"
   ]
  },
  {
   "cell_type": "code",
   "execution_count": null,
   "metadata": {},
   "outputs": [],
   "source": [
    "# Criar o balanceador\n",
    "undersample = RandomUnderSampler(sampling_strategy='auto')\n",
    "\n",
    "# Under-sampling\n",
    "X_res, y_res = undersample.fit_resample(X, y)\n",
    "\n",
    "# Train-test split\n",
    "X_train, X_test, y_train, y_test = train_test_split(X_res, y_res, stratify=y_res)\n",
    "\n",
    "print(f\"\"\"\n",
    "      X_train: {X_train.shape}\n",
    "      X_test: {X_test.shape}\n",
    "      y_train: {y_train.shape}\n",
    "      y_test: {y_test.shape}\n",
    "      \"\"\")"
   ]
  },
  {
   "cell_type": "code",
   "execution_count": null,
   "metadata": {},
   "outputs": [],
   "source": [
    "y_train.value_counts(), y_test.value_counts()"
   ]
  },
  {
   "cell_type": "code",
   "execution_count": 81,
   "metadata": {},
   "outputs": [],
   "source": [
    "numeric_columns = make_column_selector(dtype_include=['int64', 'float64'])\n",
    "categorical_columns = make_column_selector(dtype_include=['object'])\n",
    "\n",
    "numeric_transformer = Pipeline(steps=[\n",
    "    ('scaler', StandardScaler())\n",
    "])\n",
    "\n",
    "categorical_transformer = Pipeline(steps=[\n",
    "    ('onehot', OneHotEncoder(handle_unknown='ignore', sparse_output=False))\n",
    "])\n",
    "\n",
    "preprocessor = ColumnTransformer(\n",
    "    transformers=[\n",
    "        ('num', numeric_transformer, numeric_columns),\n",
    "        ('cat', categorical_transformer, categorical_columns)\n",
    "    ])\n",
    "\n",
    "full_pipe = Pipeline([\n",
    "    ('preprocessor', preprocessor),\n",
    "    ('model', LogisticRegression())\n",
    "])"
   ]
  },
  {
   "cell_type": "code",
   "execution_count": null,
   "metadata": {},
   "outputs": [],
   "source": [
    "full_pipe.fit(X_train, y_train)"
   ]
  },
  {
   "cell_type": "code",
   "execution_count": null,
   "metadata": {},
   "outputs": [],
   "source": [
    "cv = StratifiedKFold(n_splits=5)\n",
    "\n",
    "cross_val = cross_validate(full_pipe, X_test, y_test, scoring = ['accuracy', 'recall', 'precision', 'average_precision'], cv=cv)\n",
    "cross_val\n",
    "\n",
    "print(f\"Accuracy : {cross_val['test_accuracy'].mean()}\")\n",
    "print(f\"Recall : {cross_val['test_recall'].mean()}\")\n",
    "print(f\"Precision : {cross_val['test_precision'].mean()}\")\n",
    "print(f\"AVG_Precision : {cross_val['test_average_precision'].mean()}\")"
   ]
  },
  {
   "cell_type": "code",
   "execution_count": null,
   "metadata": {},
   "outputs": [],
   "source": [
    "y_test_pred = full_pipe.predict(X_test)\n",
    "print(classification_report(y_test, y_test_pred))"
   ]
  },
  {
   "cell_type": "code",
   "execution_count": null,
   "metadata": {},
   "outputs": [],
   "source": [
    "full_pipe.fit(X_train, y_train)\n",
    "y_pred_prob = full_pipe.predict_proba(X_test)[:,1]\n",
    "\n",
    "\n",
    "precision, recall, _ = precision_recall_curve(y_test, y_pred_prob)\n",
    "disp = PrecisionRecallDisplay(precision=precision, recall=recall)\n",
    "disp.plot()"
   ]
  },
  {
   "cell_type": "code",
   "execution_count": null,
   "metadata": {},
   "outputs": [],
   "source": [
    "train_sizes, train_scores, test_scores = learning_curve(\n",
    "    full_pipe, X_res, y_res, cv=cv, scoring='accuracy', train_sizes=np.linspace(0.1, 1.0, 20)\n",
    ")\n",
    "\n",
    "plt.plot(train_sizes, train_scores.mean(axis=1), label='Train Score')\n",
    "plt.plot(train_sizes, test_scores.mean(axis=1), label='Test Score')\n",
    "plt.legend()\n",
    "plt.xlabel('Training Size')\n",
    "plt.ylabel('Accuracy')\n",
    "plt.title('Learning Curve')\n",
    "plt.show()\n"
   ]
  },
  {
   "cell_type": "markdown",
   "metadata": {},
   "source": [
    "### UnderSampling + OverSampling"
   ]
  },
  {
   "cell_type": "code",
   "execution_count": 7,
   "metadata": {},
   "outputs": [],
   "source": [
    "# Selecting columns by type\n",
    "numeric_columns = make_column_selector(dtype_include=['int64', 'float64'])\n",
    "categorical_columns = make_column_selector(dtype_include=['object'])\n",
    "\n",
    "# Standard scaling for  the numerical features\n",
    "numeric_transformer = Pipeline(steps=[\n",
    "    ('scaler', StandardScaler())\n",
    "])\n",
    "\n",
    "# OHE for categorical features\n",
    "categorical_transformer = Pipeline(steps=[\n",
    "    ('onehot', OneHotEncoder(handle_unknown='ignore', sparse_output=False))\n",
    "])\n",
    "\n",
    "# Preprocessing column transformer\n",
    "preprocessor = ColumnTransformer(\n",
    "    transformers=[\n",
    "        ('num', numeric_transformer, numeric_columns),\n",
    "        ('cat', categorical_transformer, categorical_columns)\n",
    "    ]\n",
    ")\n",
    "\n",
    "# Creating model\n",
    "model = XGBClassifier(\n",
    "    gamma=0.1,\n",
    "    learning_rate=0.1,\n",
    "    n_estimators=500,\n",
    "    reg_lambda=1.0,\n",
    "    max_depth=6,\n",
    ")\n",
    "\n",
    "# Full pipe including SMOTE + UnderSampler\n",
    "full_pipe = ImbPipeline(steps=[\n",
    "    ('preprocessor', preprocessor),\n",
    "    ('smote', SMOTE(sampling_strategy=0.5)),\n",
    "    ('undersample', RandomUnderSampler(sampling_strategy=0.5)),\n",
    "    ('model', model)\n",
    "])\n"
   ]
  },
  {
   "cell_type": "code",
   "execution_count": 10,
   "metadata": {},
   "outputs": [],
   "source": [
    "X_train, X_test, y_train, y_test = train_test_split(X, y, test_size=0.3, stratify= y)"
   ]
  },
  {
   "cell_type": "code",
   "execution_count": 11,
   "metadata": {},
   "outputs": [],
   "source": [
    "full_pipe.fit(X_train, y_train)\n",
    "\n",
    "y_pred = full_pipe.predict(X_test)"
   ]
  },
  {
   "cell_type": "code",
   "execution_count": 29,
   "metadata": {},
   "outputs": [
    {
     "name": "stdout",
     "output_type": "stream",
     "text": [
      "\n",
      "      Accuracy: 1.0\n",
      "      Recall: 0.99\n",
      "      Precision: 0.47\n",
      "      F1 Score: 0.64\n",
      "      ROC AUC: 0.99\n",
      "      \n"
     ]
    }
   ],
   "source": [
    "# Metrics in the test dataset\n",
    "accuracy = accuracy_score(y_test, y_pred)\n",
    "recall = recall_score(y_test, y_pred)\n",
    "precision = precision_score(y_test, y_pred)\n",
    "f1 = f1_score(y_test, y_pred)\n",
    "roc_auc = roc_auc_score(y_test, y_pred)\n",
    "\n",
    "print(f\"\"\"\n",
    "      Accuracy: {round(accuracy, 2)}\n",
    "      Recall: {round(recall, 2)}\n",
    "      Precision: {round(precision, 2)}\n",
    "      F1 Score: {round(f1, 2)}\n",
    "      ROC AUC: {round(roc_auc, 2)}\n",
    "      \"\"\")\n"
   ]
  },
  {
   "cell_type": "code",
   "execution_count": 13,
   "metadata": {},
   "outputs": [
    {
     "name": "stdout",
     "output_type": "stream",
     "text": [
      "Accuracy : 0.9985848148141201\n",
      "Recall : 0.9888675975328262\n",
      "Precision : 0.4771510708668513\n",
      "AVG_Precision : 0.9687974211263937\n"
     ]
    }
   ],
   "source": [
    "# Stratified cross validation\n",
    "cv = StratifiedKFold(n_splits=5)\n",
    "\n",
    "cross_val = cross_validate(full_pipe, X_train, y_train, scoring = ['accuracy', 'recall', 'precision', 'average_precision'], cv=cv)\n",
    "\n",
    "print(f\"Accuracy : {cross_val['test_accuracy'].mean()}\")\n",
    "print(f\"Recall : {cross_val['test_recall'].mean()}\")\n",
    "print(f\"Precision : {cross_val['test_precision'].mean()}\")\n",
    "print(f\"AVG_Precision : {cross_val['test_average_precision'].mean()}\")"
   ]
  },
  {
   "cell_type": "code",
   "execution_count": 14,
   "metadata": {},
   "outputs": [
    {
     "name": "stdout",
     "output_type": "stream",
     "text": [
      "              precision    recall  f1-score   support\n",
      "\n",
      "           0       1.00      1.00      1.00   1906322\n",
      "           1       0.47      0.99      0.64      2464\n",
      "\n",
      "    accuracy                           1.00   1908786\n",
      "   macro avg       0.74      0.99      0.82   1908786\n",
      "weighted avg       1.00      1.00      1.00   1908786\n",
      "\n"
     ]
    }
   ],
   "source": [
    "print(classification_report(y_test, y_pred))"
   ]
  },
  {
   "cell_type": "code",
   "execution_count": 15,
   "metadata": {},
   "outputs": [
    {
     "data": {
      "text/plain": [
       "<sklearn.metrics._plot.precision_recall_curve.PrecisionRecallDisplay at 0x782b17fb18d0>"
      ]
     },
     "execution_count": 15,
     "metadata": {},
     "output_type": "execute_result"
    },
    {
     "data": {
      "image/png": "[encoded data removed]",
      "text/plain": [
       "<Figure size 640x480 with 1 Axes>"
      ]
     },
     "metadata": {},
     "output_type": "display_data"
    }
   ],
   "source": [
    "y_pred_prob = full_pipe.predict_proba(X_test)[:,1]\n",
    "\n",
    "precision, recall, _ = precision_recall_curve(y_test, y_pred_prob)\n",
    "disp = PrecisionRecallDisplay(precision=precision, recall=recall)\n",
    "disp.plot()"
   ]
  },
  {
   "cell_type": "code",
   "execution_count": 26,
   "metadata": {},
   "outputs": [
    {
     "data": {
      "text/plain": [
       "array([0, 0, 0, ..., 0, 0, 0], shape=(1908786,))"
      ]
     },
     "execution_count": 26,
     "metadata": {},
     "output_type": "execute_result"
    }
   ],
   "source": [
    "# Calculating pred_proba for 0.9 threshold\n",
    "threshold = 0.9\n",
    "y_pred_adjusted = (y_pred_prob >= threshold).astype(int)\n",
    "y_pred_adjusted"
   ]
  },
  {
   "cell_type": "code",
   "execution_count": 30,
   "metadata": {},
   "outputs": [
    {
     "name": "stdout",
     "output_type": "stream",
     "text": [
      "Before threshold adjustment:\n",
      "\n",
      "      Accuracy: 1.0\n",
      "      Recall: 0.99\n",
      "      Precision: 0.47\n",
      "      F1 Score: 0.64\n",
      "      ROC AUC: 0.99\n",
      "      \n",
      "--------------------------------------------------\n",
      "After threshold adjustment\n",
      "\n",
      "      Accuracy: 1.0\n",
      "      Recall: 0.96\n",
      "      Precision: 0.73\n",
      "      F1 Score: 0.83\n",
      "      ROC AUC: 0.98\n",
      "      \n"
     ]
    }
   ],
   "source": [
    "# Scoring with threshold adjustment\n",
    "accuracy_9 = accuracy_score(y_test, y_pred_adjusted)\n",
    "recall_9 = recall_score(y_test, y_pred_adjusted)\n",
    "precision_9 = precision_score(y_test, y_pred_adjusted)\n",
    "f1_9 = f1_score(y_test, y_pred_adjusted)\n",
    "roc_auc_9 = roc_auc_score(y_test, y_pred_adjusted)\n",
    "\n",
    "print(\"Before threshold adjustment:\")\n",
    "\n",
    "print(f\"\"\"\n",
    "      Accuracy: {round(accuracy, 2)}\n",
    "      Recall: {round(recall, 2)}\n",
    "      Precision: {round(precision, 2)}\n",
    "      F1 Score: {round(f1, 2)}\n",
    "      ROC AUC: {round(roc_auc, 2)}\n",
    "      \"\"\")\n",
    "print(\"-\" *50)\n",
    "print(\"After threshold adjustment\")\n",
    "\n",
    "print(f\"\"\"\n",
    "      Accuracy: {round(accuracy_9, 2)}\n",
    "      Recall: {round(recall_9, 2)}\n",
    "      Precision: {round(precision_9, 2)}\n",
    "      F1 Score: {round(f1_9, 2)}\n",
    "      ROC AUC: {round(roc_auc_9, 2)}\n",
    "      \"\"\")"
   ]
  },
  {
   "cell_type": "markdown",
   "metadata": {},
   "source": [
    "## Model Fine Tuning"
   ]
  },
  {
   "cell_type": "code",
   "execution_count": null,
   "metadata": {},
   "outputs": [],
   "source": [
    "param_dist = {\n",
    "    'model__learning_rate': [0.01, 0.1, 1],\n",
    "    'model__n_estimators': [100, 200, 300, 400, 500],\n",
    "    'model__max_depth': [3, 4, 5, 6, 7, 8, 9],\n",
    "    'model__min_child_weight': [1, 2, 3, 4, 5],\n",
    "    'model__subsample': [0.7, 0.8, 0.9, 1.0],\n",
    "    'model__colsample_bytree': [0.7, 0.8, 0.9, 1.0],\n",
    "    'model__scale_pos_weight': [1, 2, 5, 10],\n",
    "    'model__gamma': [0, 0.1, 0.2, 0.3, 0.4],\n",
    "    'model__reg_alpha': [0, 0.1, 0.5, 1],\n",
    "    'model__reg_lambda': [0, 0.1, 0.5, 1],\n",
    "    'smote__sampling_strategy': [0.3, 0.5, 0.7],\n",
    "    'undersample__sampling_strategy': [0.3, 0.5, 0.7],\n",
    "}\n",
    "\n",
    "# Configuração do RandomizedSearchCV\n",
    "random_search = RandomizedSearchCV(\n",
    "    estimator=full_pipe,\n",
    "    param_distributions=param_dist,\n",
    "    n_iter=50,\n",
    "    scoring='precision',\n",
    "    cv=cv,\n",
    "    verbose=1,\n",
    "    n_jobs=-1,\n",
    ")\n",
    "\n",
    "# Ajuste do modelo aos dados\n",
    "random_search.fit(X_train, y_train)"
   ]
  },
  {
   "cell_type": "code",
   "execution_count": null,
   "metadata": {},
   "outputs": [],
   "source": [
    "# Melhores parâmetros encontrados\n",
    "print(\"Melhores parâmetros encontrados:\", random_search.best_params_)\n",
    "\n",
    "# Melhor modelo treinado\n",
    "best_pipe = random_search.best_estimator_\n",
    "\n",
    "# Avaliação do modelo nos dados de teste\n",
    "precision = best_pipe.score(X_test, y_test)\n",
    "print(f\"Precision: {precision:.4f}\")"
   ]
  },
  {
   "cell_type": "code",
   "execution_count": null,
   "metadata": {},
   "outputs": [],
   "source": []
  }
 ],
 "metadata": {
  "kernelspec": {
   "display_name": "fraud-prediction",
   "language": "python",
   "name": "python3"
  },
  "language_info": {
   "codemirror_mode": {
    "name": "ipython",
    "version": 3
   },
   "file_extension": ".py",
   "mimetype": "text/x-python",
   "name": "python",
   "nbconvert_exporter": "python",
   "pygments_lexer": "ipython3",
   "version": "3.10.6"
  }
 },
 "nbformat": 4,
 "nbformat_minor": 2
}
