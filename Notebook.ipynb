{
 "cells": [
  {
   "cell_type": "markdown",
   "metadata": {},
   "source": [
    "# Fraud Detection"
   ]
  },
  {
   "cell_type": "code",
   "execution_count": 1,
   "metadata": {},
   "outputs": [],
   "source": [
    "## Imports:\n",
    "\n",
    "import numpy as np\n",
    "import pandas as pd\n",
    "import matplotlib.pyplot as plt\n",
    "import seaborn as sns\n",
    "from scipy.stats import uniform, randint\n",
    "\n",
    "from sklearn.preprocessing import StandardScaler, OneHotEncoder\n",
    "from sklearn.compose import ColumnTransformer, make_column_selector\n",
    "from sklearn.pipeline import Pipeline\n",
    "from xgboost import XGBClassifier\n",
    "from sklearn.model_selection import train_test_split, cross_validate, learning_curve, StratifiedKFold, RandomizedSearchCV\n",
    "from imblearn.under_sampling import RandomUnderSampler\n",
    "from imblearn.over_sampling import SMOTE\n",
    "from imblearn.pipeline import Pipeline as ImbPipeline\n",
    "from sklearn.metrics import PrecisionRecallDisplay, precision_recall_curve\n",
    "from sklearn.metrics import accuracy_score, recall_score, precision_score, roc_auc_score, f1_score, classification_report, confusion_matrix\n"
   ]
  },
  {
   "cell_type": "markdown",
   "metadata": {},
   "source": [
    "## Dataset exploration"
   ]
  },
  {
   "cell_type": "markdown",
   "metadata": {},
   "source": [
    "### [Dataset](https://www.kaggle.com/datasets/chitwanmanchanda/fraudulent-transactions-data) Description: Fraudulent Transactions Prediction\n",
    "\n",
    "### Context  \n",
    "The dataset supports the development of a model to predict fraudulent transactions for a financial company. Insights derived from the model are intended to inform an actionable plan. The data is in CSV format, containing **6,362,620 rows** and **10 columns**, simulating 30 days of transactions.\n",
    "\n",
    "### Content  \n",
    "The dataset includes the following features:\n",
    "\n",
    "- **`step`**: Time unit in hours (1 step = 1 hour, total steps = 744).\n",
    "- **`type`**: Type of transaction - `CASH-IN`, `CASH-OUT`, `DEBIT`, `PAYMENT`, `TRANSFER`.\n",
    "- **`amount`**: Transaction amount in local currency.\n",
    "- **`nameOrig`**: Customer initiating the transaction.\n",
    "- **`oldbalanceOrg`**: Initial balance of the sender before the transaction.\n",
    "- **`newbalanceOrig`**: New balance of the sender after the transaction.\n",
    "- **`nameDest`**: Recipient of the transaction.\n",
    "- **`oldbalanceDest`**: Initial balance of the recipient before the transaction (missing for merchants, indicated by names starting with \"M\").\n",
    "- **`newbalanceDest`**: New balance of the recipient after the transaction (missing for merchants).\n",
    "- **`isFraud`**: Indicates if the transaction was fraudulent (simulated fraudulent behavior involves taking control of accounts to transfer and withdraw funds).\n",
    "- **`isFlaggedFraud`**: Flags illegal attempts, defined as transferring amounts exceeding 200,000 in a single transaction.\n"
   ]
  },
  {
   "cell_type": "code",
   "execution_count": 6,
   "metadata": {},
   "outputs": [
    {
     "name": "stdout",
     "output_type": "stream",
     "text": [
      "Shape: (6362620, 11)\n"
     ]
    }
   ],
   "source": [
    "data = pd.read_csv('raw_data/Fraud.csv')\n",
    "\n",
    "print(f\"Shape: {data.shape}\")\n",
    "data.head(3)\n",
    "\n",
    "# Features and target\n",
    "X = data.drop(columns=['isFraud', 'nameDest', 'nameOrig'])\n",
    "y = data['isFraud']"
   ]
  },
  {
   "cell_type": "code",
   "execution_count": 3,
   "metadata": {},
   "outputs": [
    {
     "data": {
      "text/plain": [
       "step              0\n",
       "type              0\n",
       "amount            0\n",
       "nameOrig          0\n",
       "oldbalanceOrg     0\n",
       "newbalanceOrig    0\n",
       "nameDest          0\n",
       "oldbalanceDest    0\n",
       "newbalanceDest    0\n",
       "isFraud           0\n",
       "isFlaggedFraud    0\n",
       "dtype: int64"
      ]
     },
     "execution_count": 3,
     "metadata": {},
     "output_type": "execute_result"
    }
   ],
   "source": [
    "# Checking for null values\n",
    "data.isna().sum()"
   ]
  },
  {
   "cell_type": "code",
   "execution_count": 4,
   "metadata": {},
   "outputs": [
    {
     "name": "stdout",
     "output_type": "stream",
     "text": [
      "<class 'pandas.core.frame.DataFrame'>\n",
      "RangeIndex: 6362620 entries, 0 to 6362619\n",
      "Data columns (total 11 columns):\n",
      " #   Column          Dtype  \n",
      "---  ------          -----  \n",
      " 0   step            int64  \n",
      " 1   type            object \n",
      " 2   amount          float64\n",
      " 3   nameOrig        object \n",
      " 4   oldbalanceOrg   float64\n",
      " 5   newbalanceOrig  float64\n",
      " 6   nameDest        object \n",
      " 7   oldbalanceDest  float64\n",
      " 8   newbalanceDest  float64\n",
      " 9   isFraud         int64  \n",
      " 10  isFlaggedFraud  int64  \n",
      "dtypes: float64(5), int64(3), object(3)\n",
      "memory usage: 534.0+ MB\n"
     ]
    }
   ],
   "source": [
    "data.info()"
   ]
  },
  {
   "cell_type": "code",
   "execution_count": 5,
   "metadata": {},
   "outputs": [
    {
     "name": "stdout",
     "output_type": "stream",
     "text": [
      "Non-fraudulent transactions: 6354407\n",
      "Fraudulent transactions: 8213\n",
      "----------------------------------------------------------------------------------------------------\n",
      "Non-fraudulent transactions: 0.9987\n",
      "Fraudulent transactions: 0.0013\n"
     ]
    }
   ],
   "source": [
    "# Check for class imbalance\n",
    "non_fraudulent = len(data[data['isFraud'] == 0])\n",
    "fraudulent = len(data[data['isFraud'] == 1])\n",
    "\n",
    "non_fraudulent_perc = np.round(non_fraudulent/data.shape[0], decimals=4)\n",
    "fraudulent_perc = np.round(fraudulent/data.shape[0], decimals=4)\n",
    "\n",
    "print(f\"Non-fraudulent transactions: {non_fraudulent}\\nFraudulent transactions: {fraudulent}\")\n",
    "\n",
    "print(\"-\"*100)\n",
    "\n",
    "print(f\"Non-fraudulent transactions: {non_fraudulent_perc}\\nFraudulent transactions: {fraudulent_perc}\")"
   ]
  },
  {
   "cell_type": "code",
   "execution_count": 15,
   "metadata": {},
   "outputs": [
    {
     "data": {
      "text/plain": [
       "np.int64(0)"
      ]
     },
     "execution_count": 15,
     "metadata": {},
     "output_type": "execute_result"
    }
   ],
   "source": [
    "data.duplicated().sum()"
   ]
  },
  {
   "cell_type": "code",
   "execution_count": 6,
   "metadata": {},
   "outputs": [],
   "source": [
    "# Checking if all FlaggedFrauds are classified as 1 in isFrauds column\n",
    "assert len(data[(data['isFlaggedFraud'] == 1) & (data['isFraud'] == 1)]) == len(data[data['isFlaggedFraud'] == 1])"
   ]
  },
  {
   "cell_type": "code",
   "execution_count": 7,
   "metadata": {},
   "outputs": [],
   "source": [
    "def plot_isfraud_value_count(data : pd.DataFrame) -> None:\n",
    "    \"\"\"\n",
    "    Plots a bar chart showing the counts of unique values in the 'isFraud' column of a DataFrame.\n",
    "\n",
    "    This function creates a bar plot using Seaborn to visualize the distribution of values (0 and 1)\n",
    "    in the 'isFraud' column of the given DataFrame. The chart includes:\n",
    "    - Custom annotations above each bar displaying the exact count.\n",
    "    - Customized y-axis tick labels for better readability.\n",
    "    - A title and axis labels for clarity.\n",
    "\n",
    "    Parameters:\n",
    "    -----------\n",
    "    data : pd.DataFrame\n",
    "        A pandas DataFrame containing the 'isFraud' column with binary values (0 and 1).\n",
    "\n",
    "    Returns:\n",
    "    --------\n",
    "    None\n",
    "        This function displays the plot but does not return any value.\n",
    "\n",
    "    Notes:\n",
    "    ------\n",
    "    - The function assumes the 'isFraud' column exists in the DataFrame and contains binary values.\n",
    "    - The y-axis tick intervals are set to 1,000,000 by default and may require adjustment for datasets\n",
    "      with smaller counts.\n",
    "    \"\"\"\n",
    "    value_counts = data['isFraud'].value_counts()\n",
    "\n",
    "    ax = sns.barplot(x=value_counts.index, y=value_counts.values, color='maroon')\n",
    "\n",
    "    for index, value in enumerate(value_counts.values):\n",
    "        ax.text(index, value + max(value_counts.values) * 0.02,\n",
    "                str(value),\n",
    "                ha='center', fontsize=12, fontweight='bold')\n",
    "\n",
    "    ax.set_yticks(range(0, max(value_counts.values) + 1, 1000000))\n",
    "    ax.set_yticklabels([f\"{tick}\" for tick in ax.get_yticks()])\n",
    "    plt.xlabel('isFraud')\n",
    "    plt.ylabel('Count')\n",
    "    plt.title('Value count in isFraud Column')\n",
    "    plt.ylim(0, max(value_counts.values) * 1.1)\n",
    "    plt.show()\n",
    "\n",
    "    return None"
   ]
  },
  {
   "cell_type": "code",
   "execution_count": 8,
   "metadata": {},
   "outputs": [],
   "source": [
    "#plot_isfraud_value_count(data)"
   ]
  },
  {
   "cell_type": "code",
   "execution_count": 9,
   "metadata": {},
   "outputs": [],
   "source": [
    "# checking for correlations in numerical features:\n",
    "\n",
    "def plot_correlation_map(data: pd.DataFrame) -> None:\n",
    "    \"\"\"\n",
    "    Plots a heatmap of the correlation matrix for a given DataFrame.\n",
    "\n",
    "    This function computes the correlation matrix of the numeric columns in the input DataFrame,\n",
    "    then visualizes it using a heatmap with the upper triangle masked. The heatmap displays\n",
    "    correlation coefficients as annotated values.\n",
    "\n",
    "    Parameters:\n",
    "    -----------\n",
    "    data : pd.DataFrame\n",
    "        The input DataFrame containing numeric data for which the correlation matrix is calculated.\n",
    "\n",
    "    Returns:\n",
    "    --------\n",
    "    None\n",
    "        This function does not return any value. It displays a heatmap plot of the correlation matrix.\n",
    "    \"\"\"\n",
    "    corr = data.corr(numeric_only=True)\n",
    "    trimask = np.triu(np.ones_like(corr, dtype=bool))\n",
    "\n",
    "    sns.heatmap(data=corr, annot=True, mask=trimask,square=True, linewidth=.1, fmt=\".2f\")\n",
    "\n",
    "    plt.tight_layout()\n",
    "    plt.show()"
   ]
  },
  {
   "cell_type": "code",
   "execution_count": 10,
   "metadata": {},
   "outputs": [
    {
     "data": {
      "image/png": "[encoded data removed]",
      "text/plain": [
       "<Figure size 640x480 with 2 Axes>"
      ]
     },
     "metadata": {},
     "output_type": "display_data"
    }
   ],
   "source": [
    "plot_correlation_map(data)"
   ]
  },
  {
   "cell_type": "code",
   "execution_count": 11,
   "metadata": {},
   "outputs": [
    {
     "data": {
      "text/plain": [
       "step              0.031578\n",
       "amount            0.076688\n",
       "oldbalanceOrg     0.010154\n",
       "newbalanceOrig   -0.008148\n",
       "oldbalanceDest   -0.005885\n",
       "newbalanceDest    0.000535\n",
       "isFraud           1.000000\n",
       "isFlaggedFraud    0.044109\n",
       "Name: isFraud, dtype: float64"
      ]
     },
     "execution_count": 11,
     "metadata": {},
     "output_type": "execute_result"
    }
   ],
   "source": [
    "data.corr(numeric_only=True)['isFraud']"
   ]
  },
  {
   "cell_type": "markdown",
   "metadata": {},
   "source": [
    "The correlation index between some features indicates multicollinearity:\n",
    "\n",
    "- **('oldbalanceDest', 'newbalanceDest')** = 0.9766  \n",
    "- **('oldbalanceOrg', 'newbalanceOrig')** = 0.9988  \n",
    "\n",
    "To address this issue, we should remove `newbalanceOrig` and `newbalanceDest` because they have a lower correlation with our target variable.\n"
   ]
  },
  {
   "cell_type": "markdown",
   "metadata": {},
   "source": [
    "## Preprocessing"
   ]
  },
  {
   "cell_type": "markdown",
   "metadata": {},
   "source": [
    "### UnderSampling"
   ]
  },
  {
   "cell_type": "code",
   "execution_count": 5,
   "metadata": {},
   "outputs": [
    {
     "name": "stdout",
     "output_type": "stream",
     "text": [
      "\n",
      "      X_train: (13140, 10)\n",
      "      X_test: (3286, 10)\n",
      "      y_train: (13140,)\n",
      "      y_test: (3286,)\n",
      "      \n"
     ]
    }
   ],
   "source": [
    "# Criar o balanceador\n",
    "undersample = RandomUnderSampler(sampling_strategy='auto')\n",
    "\n",
    "# Under-sampling\n",
    "X_res, y_res = undersample.fit_resample(X, y)\n",
    "\n",
    "# Train-test split\n",
    "X_train, X_test, y_train, y_test = train_test_split(X_res, y_res, test_size = 0.2)\n",
    "\n",
    "print(f\"\"\"\n",
    "      X_train: {X_train.shape}\n",
    "      X_test: {X_test.shape}\n",
    "      y_train: {y_train.shape}\n",
    "      y_test: {y_test.shape}\n",
    "      \"\"\")"
   ]
  },
  {
   "cell_type": "code",
   "execution_count": 24,
   "metadata": {},
   "outputs": [
    {
     "name": "stdout",
     "output_type": "stream",
     "text": [
      "Samples for each class after UnderSampling:\n",
      "Class 0: 8213\n",
      "Class 1: 8213\n"
     ]
    }
   ],
   "source": [
    "print(f\"Samples for each class after UnderSampling:\")\n",
    "print(f\"Class 0: {y_res.value_counts()[0]}\")\n",
    "print(f\"Class 1: {y_res.value_counts()[1]}\")"
   ]
  },
  {
   "cell_type": "code",
   "execution_count": 4,
   "metadata": {},
   "outputs": [],
   "source": [
    "numeric_columns = make_column_selector(dtype_include=['int64', 'float64'])\n",
    "categorical_columns = make_column_selector(dtype_include=['object'])\n",
    "\n",
    "numeric_transformer = StandardScaler()\n",
    "\n",
    "categorical_transformer = OneHotEncoder(handle_unknown='ignore', sparse_output=False)\n",
    "\n",
    "preprocessor = ColumnTransformer(\n",
    "    transformers=[\n",
    "        ('num', numeric_transformer, numeric_columns),\n",
    "        ('cat', categorical_transformer, categorical_columns)\n",
    "    ])\n",
    "\n",
    "full_pipe = Pipeline([\n",
    "    ('preprocessor', preprocessor),\n",
    "    ('model', XGBClassifier())\n",
    "])"
   ]
  },
  {
   "cell_type": "code",
   "execution_count": 26,
   "metadata": {},
   "outputs": [],
   "source": [
    "full_pipe.fit(X_train, y_train)\n",
    "\n",
    "y_pred = full_pipe.predict(X_test)"
   ]
  },
  {
   "cell_type": "code",
   "execution_count": 27,
   "metadata": {},
   "outputs": [
    {
     "name": "stdout",
     "output_type": "stream",
     "text": [
      "\n",
      "      Accuracy: 0.992\n",
      "      Recall: 0.995\n",
      "      Precision: 0.99\n",
      "      F1 Score: 0.992\n",
      "      ROC AUC: 0.992\n",
      "      \n"
     ]
    }
   ],
   "source": [
    "# Metrics in the test dataset\n",
    "accuracy_under = accuracy_score(y_test, y_pred)\n",
    "recall_under = recall_score(y_test, y_pred)\n",
    "precision_under = precision_score(y_test, y_pred)\n",
    "f1_under = f1_score(y_test, y_pred)\n",
    "roc_auc_under = roc_auc_score(y_test, y_pred)\n",
    "\n",
    "print(f\"\"\"\n",
    "      Accuracy: {round(accuracy_under, 3)}\n",
    "      Recall: {round(recall_under, 3)}\n",
    "      Precision: {round(precision_under, 3)}\n",
    "      F1 Score: {round(f1_under, 3)}\n",
    "      ROC AUC: {round(roc_auc_under, 3)}\n",
    "      \"\"\")"
   ]
  },
  {
   "cell_type": "code",
   "execution_count": 16,
   "metadata": {},
   "outputs": [
    {
     "name": "stdout",
     "output_type": "stream",
     "text": [
      "Accuracy : 0.9920091324200915\n",
      "Recall : 0.9963584634977755\n",
      "Precision : 0.9878271778548307\n",
      "F1 : 0.9920705114011161\n",
      "AVG_Precision : 0.9991119165922419\n"
     ]
    }
   ],
   "source": [
    "cv = StratifiedKFold(n_splits=5)\n",
    "\n",
    "cross_val = cross_validate(full_pipe, X_train, y_train, scoring = ['accuracy', 'recall', 'precision', 'average_precision', 'f1'], cv=cv)\n",
    "cross_val\n",
    "\n",
    "print(f\"Accuracy : {cross_val['test_accuracy'].mean()}\")\n",
    "print(f\"Recall : {cross_val['test_recall'].mean()}\")\n",
    "print(f\"Precision : {cross_val['test_precision'].mean()}\")\n",
    "print(f\"F1 : {cross_val['test_f1'].mean()}\")\n",
    "print(f\"AVG_Precision : {cross_val['test_average_precision'].mean()}\")"
   ]
  },
  {
   "cell_type": "code",
   "execution_count": 18,
   "metadata": {},
   "outputs": [
    {
     "name": "stdout",
     "output_type": "stream",
     "text": [
      "              precision    recall  f1-score   support\n",
      "\n",
      "           0       1.00      0.99      0.99      2053\n",
      "           1       0.99      1.00      0.99      2054\n",
      "\n",
      "    accuracy                           0.99      4107\n",
      "   macro avg       0.99      0.99      0.99      4107\n",
      "weighted avg       0.99      0.99      0.99      4107\n",
      "\n"
     ]
    }
   ],
   "source": [
    "y_test_pred = full_pipe.predict(X_test)\n",
    "print(classification_report(y_test, y_test_pred))"
   ]
  },
  {
   "cell_type": "code",
   "execution_count": 19,
   "metadata": {},
   "outputs": [
    {
     "data": {
      "image/png": "[encoded data removed]",
      "text/plain": [
       "<Figure size 640x480 with 1 Axes>"
      ]
     },
     "metadata": {},
     "output_type": "display_data"
    }
   ],
   "source": [
    "y_pred_prob = full_pipe.predict_proba(X_test)[:,1]\n",
    "\n",
    "\n",
    "precision, recall, _ = precision_recall_curve(y_test, y_pred_prob)\n",
    "disp = PrecisionRecallDisplay(precision=precision, recall=recall)\n",
    "disp.plot()\n",
    "plt.show()"
   ]
  },
  {
   "cell_type": "code",
   "execution_count": 20,
   "metadata": {},
   "outputs": [],
   "source": [
    "# train_sizes, train_scores, test_scores = learning_curve(\n",
    "#     full_pipe, X_res, y_res, cv=cv, scoring='accuracy', train_sizes=np.linspace(0.4, 1.0, 20)\n",
    "# )\n",
    "\n",
    "# plt.plot(train_sizes, train_scores.mean(axis=1), label='Train Score')\n",
    "# plt.plot(train_sizes, test_scores.mean(axis=1), label='Test Score')\n",
    "# plt.legend()\n",
    "# plt.xlabel('Training Size')\n",
    "# plt.ylabel('Accuracy')\n",
    "# plt.title('Learning Curve')\n",
    "# plt.show()\n"
   ]
  },
  {
   "cell_type": "code",
   "execution_count": 29,
   "metadata": {},
   "outputs": [
    {
     "data": {
      "image/png": "[encoded data removed]",
      "text/plain": [
       "<Figure size 800x600 with 2 Axes>"
      ]
     },
     "metadata": {},
     "output_type": "display_data"
    }
   ],
   "source": [
    "def plot_confusion_matrix(y_test : np.array, y_pred : np.array) -> None:\n",
    "    cm = confusion_matrix(y_test, y_pred)\n",
    "\n",
    "    plt.figure(figsize=(8, 6))\n",
    "    sns.heatmap(cm, annot=True, fmt='d', cmap='Blues', xticklabels=['Class 0', 'Class 1'], yticklabels=['Class 0', 'Class 1'])\n",
    "    plt.title('Confusion Matrix')\n",
    "    plt.xlabel('Predicted')\n",
    "    plt.ylabel('True')\n",
    "    plt.show()\n",
    "    return None\n",
    "\n",
    "plot_confusion_matrix(y_test, y_pred)"
   ]
  },
  {
   "cell_type": "markdown",
   "metadata": {},
   "source": [
    "### Randomized Search"
   ]
  },
  {
   "cell_type": "code",
   "execution_count": 6,
   "metadata": {},
   "outputs": [],
   "source": [
    "param_distributions = {\n",
    "    'model__n_estimators': randint(50, 500),\n",
    "    'model__max_depth': randint(3, 10),\n",
    "    'model__learning_rate': uniform(0.01, 0.3),\n",
    "    'model__subsample': uniform(0.5, 0.5),\n",
    "    'model__colsample_bytree': uniform(0.5, 0.5),\n",
    "    'model__reg_alpha': uniform(0, 1),\n",
    "    'model__reg_lambda': uniform(0, 1),\n",
    "    'model__min_child_weight': randint(1, 10),\n",
    "    'model__gamma': uniform(0, 0.5),\n",
    "}\n",
    "\n",
    "# RandomizedSearchCV\n",
    "random_search = RandomizedSearchCV(\n",
    "    estimator=full_pipe,\n",
    "    param_distributions=param_distributions,\n",
    "    n_iter=50,\n",
    "    scoring='roc_auc',\n",
    "    cv=5,\n",
    "    verbose=2,\n",
    "    n_jobs=4         # Limiting to 4 cores to don't explode my memory :)\n",
    ")"
   ]
  },
  {
   "cell_type": "code",
   "execution_count": 7,
   "metadata": {},
   "outputs": [
    {
     "name": "stdout",
     "output_type": "stream",
     "text": [
      "Fitting 5 folds for each of 50 candidates, totalling 250 fits\n",
      "[CV] END model__colsample_bytree=0.5824627185852229, model__gamma=0.4044028900613234, model__learning_rate=0.23396331659489283, model__max_depth=8, model__min_child_weight=7, model__n_estimators=213, model__reg_alpha=0.3839263891163499, model__reg_lambda=0.488955947719364, model__subsample=0.8583749093705604; total time= 1.0min\n",
      "[CV] END model__colsample_bytree=0.5824627185852229, model__gamma=0.4044028900613234, model__learning_rate=0.23396331659489283, model__max_depth=8, model__min_child_weight=7, model__n_estimators=213, model__reg_alpha=0.3839263891163499, model__reg_lambda=0.488955947719364, model__subsample=0.8583749093705604; total time= 1.1min\n",
      "[CV] END model__colsample_bytree=0.5824627185852229, model__gamma=0.4044028900613234, model__learning_rate=0.23396331659489283, model__max_depth=8, model__min_child_weight=7, model__n_estimators=213, model__reg_alpha=0.3839263891163499, model__reg_lambda=0.488955947719364, model__subsample=0.8583749093705604; total time= 1.1min\n",
      "[CV] END model__colsample_bytree=0.5824627185852229, model__gamma=0.4044028900613234, model__learning_rate=0.23396331659489283, model__max_depth=8, model__min_child_weight=7, model__n_estimators=213, model__reg_alpha=0.3839263891163499, model__reg_lambda=0.488955947719364, model__subsample=0.8583749093705604; total time= 1.1min\n",
      "[CV] END model__colsample_bytree=0.8355824973906187, model__gamma=0.35584856752411126, model__learning_rate=0.1698964425907164, model__max_depth=6, model__min_child_weight=3, model__n_estimators=130, model__reg_alpha=0.3369811866862249, model__reg_lambda=0.40108752444803986, model__subsample=0.6650771684571424; total time=  47.5s\n",
      "[CV] END model__colsample_bytree=0.8355824973906187, model__gamma=0.35584856752411126, model__learning_rate=0.1698964425907164, model__max_depth=6, model__min_child_weight=3, model__n_estimators=130, model__reg_alpha=0.3369811866862249, model__reg_lambda=0.40108752444803986, model__subsample=0.6650771684571424; total time=  47.5s\n"
     ]
    },
    {
     "name": "stderr",
     "output_type": "stream",
     "text": [
      "/home/brunovsf/.pyenv/versions/3.10.6/envs/fraud-prediction/lib/python3.10/site-packages/joblib/externals/loky/process_executor.py:752: UserWarning: A worker stopped while some jobs were given to the executor. This can be caused by a too short worker timeout or by a memory leak.\n",
      "  warnings.warn(\n"
     ]
    },
    {
     "name": "stdout",
     "output_type": "stream",
     "text": [
      "[CV] END model__colsample_bytree=0.8355824973906187, model__gamma=0.35584856752411126, model__learning_rate=0.1698964425907164, model__max_depth=6, model__min_child_weight=3, model__n_estimators=130, model__reg_alpha=0.3369811866862249, model__reg_lambda=0.40108752444803986, model__subsample=0.6650771684571424; total time=  52.4s\n",
      "[CV] END model__colsample_bytree=0.5824627185852229, model__gamma=0.4044028900613234, model__learning_rate=0.23396331659489283, model__max_depth=8, model__min_child_weight=7, model__n_estimators=213, model__reg_alpha=0.3839263891163499, model__reg_lambda=0.488955947719364, model__subsample=0.8583749093705604; total time= 1.0min\n",
      "[CV] END model__colsample_bytree=0.8355824973906187, model__gamma=0.35584856752411126, model__learning_rate=0.1698964425907164, model__max_depth=6, model__min_child_weight=3, model__n_estimators=130, model__reg_alpha=0.3369811866862249, model__reg_lambda=0.40108752444803986, model__subsample=0.6650771684571424; total time=  47.6s\n",
      "[CV] END model__colsample_bytree=0.8355824973906187, model__gamma=0.35584856752411126, model__learning_rate=0.1698964425907164, model__max_depth=6, model__min_child_weight=3, model__n_estimators=130, model__reg_alpha=0.3369811866862249, model__reg_lambda=0.40108752444803986, model__subsample=0.6650771684571424; total time=  48.1s\n",
      "[CV] END model__colsample_bytree=0.6703654356786228, model__gamma=0.3997556553368002, model__learning_rate=0.12986871050006327, model__max_depth=4, model__min_child_weight=9, model__n_estimators=230, model__reg_alpha=0.02929324968682845, model__reg_lambda=0.11473168290057512, model__subsample=0.7284802843910423; total time= 1.2min\n",
      "[CV] END model__colsample_bytree=0.6703654356786228, model__gamma=0.3997556553368002, model__learning_rate=0.12986871050006327, model__max_depth=4, model__min_child_weight=9, model__n_estimators=230, model__reg_alpha=0.02929324968682845, model__reg_lambda=0.11473168290057512, model__subsample=0.7284802843910423; total time= 1.2min\n",
      "[CV] END model__colsample_bytree=0.6703654356786228, model__gamma=0.3997556553368002, model__learning_rate=0.12986871050006327, model__max_depth=4, model__min_child_weight=9, model__n_estimators=230, model__reg_alpha=0.02929324968682845, model__reg_lambda=0.11473168290057512, model__subsample=0.7284802843910423; total time= 1.1min\n",
      "[CV] END model__colsample_bytree=0.6703654356786228, model__gamma=0.3997556553368002, model__learning_rate=0.12986871050006327, model__max_depth=4, model__min_child_weight=9, model__n_estimators=230, model__reg_alpha=0.02929324968682845, model__reg_lambda=0.11473168290057512, model__subsample=0.7284802843910423; total time= 1.2min\n",
      "[CV] END model__colsample_bytree=0.6703654356786228, model__gamma=0.3997556553368002, model__learning_rate=0.12986871050006327, model__max_depth=4, model__min_child_weight=9, model__n_estimators=230, model__reg_alpha=0.02929324968682845, model__reg_lambda=0.11473168290057512, model__subsample=0.7284802843910423; total time= 1.2min\n",
      "[CV] END model__colsample_bytree=0.9559507165418333, model__gamma=0.24789503109526634, model__learning_rate=0.09977937223189837, model__max_depth=6, model__min_child_weight=5, model__n_estimators=386, model__reg_alpha=0.81597184991971, model__reg_lambda=0.03158899751565303, model__subsample=0.7969115965420266; total time= 2.0min\n",
      "[CV] END model__colsample_bytree=0.9559507165418333, model__gamma=0.24789503109526634, model__learning_rate=0.09977937223189837, model__max_depth=6, model__min_child_weight=5, model__n_estimators=386, model__reg_alpha=0.81597184991971, model__reg_lambda=0.03158899751565303, model__subsample=0.7969115965420266; total time= 2.1min\n",
      "[CV] END model__colsample_bytree=0.9559507165418333, model__gamma=0.24789503109526634, model__learning_rate=0.09977937223189837, model__max_depth=6, model__min_child_weight=5, model__n_estimators=386, model__reg_alpha=0.81597184991971, model__reg_lambda=0.03158899751565303, model__subsample=0.7969115965420266; total time= 2.0min\n",
      "[CV] END model__colsample_bytree=0.9559507165418333, model__gamma=0.24789503109526634, model__learning_rate=0.09977937223189837, model__max_depth=6, model__min_child_weight=5, model__n_estimators=386, model__reg_alpha=0.81597184991971, model__reg_lambda=0.03158899751565303, model__subsample=0.7969115965420266; total time= 2.0min\n",
      "[CV] END model__colsample_bytree=0.9559507165418333, model__gamma=0.24789503109526634, model__learning_rate=0.09977937223189837, model__max_depth=6, model__min_child_weight=5, model__n_estimators=386, model__reg_alpha=0.81597184991971, model__reg_lambda=0.03158899751565303, model__subsample=0.7969115965420266; total time= 2.2min\n",
      "[CV] END model__colsample_bytree=0.5525098824789179, model__gamma=0.47952128746152, model__learning_rate=0.15538506748406722, model__max_depth=9, model__min_child_weight=6, model__n_estimators=368, model__reg_alpha=0.09921828822456624, model__reg_lambda=0.28476756090953037, model__subsample=0.868130655613232; total time= 1.5min\n",
      "[CV] END model__colsample_bytree=0.5525098824789179, model__gamma=0.47952128746152, model__learning_rate=0.15538506748406722, model__max_depth=9, model__min_child_weight=6, model__n_estimators=368, model__reg_alpha=0.09921828822456624, model__reg_lambda=0.28476756090953037, model__subsample=0.868130655613232; total time= 1.7min\n",
      "[CV] END model__colsample_bytree=0.5525098824789179, model__gamma=0.47952128746152, model__learning_rate=0.15538506748406722, model__max_depth=9, model__min_child_weight=6, model__n_estimators=368, model__reg_alpha=0.09921828822456624, model__reg_lambda=0.28476756090953037, model__subsample=0.868130655613232; total time= 1.5min\n",
      "[CV] END model__colsample_bytree=0.5525098824789179, model__gamma=0.47952128746152, model__learning_rate=0.15538506748406722, model__max_depth=9, model__min_child_weight=6, model__n_estimators=368, model__reg_alpha=0.09921828822456624, model__reg_lambda=0.28476756090953037, model__subsample=0.868130655613232; total time= 1.6min\n",
      "[CV] END model__colsample_bytree=0.7591725916836807, model__gamma=0.27783183329441313, model__learning_rate=0.21857284362135002, model__max_depth=3, model__min_child_weight=3, model__n_estimators=344, model__reg_alpha=0.010155907911833961, model__reg_lambda=0.9620395119289487, model__subsample=0.9019523033601233; total time= 1.4min\n",
      "[CV] END model__colsample_bytree=0.5525098824789179, model__gamma=0.47952128746152, model__learning_rate=0.15538506748406722, model__max_depth=9, model__min_child_weight=6, model__n_estimators=368, model__reg_alpha=0.09921828822456624, model__reg_lambda=0.28476756090953037, model__subsample=0.868130655613232; total time= 1.6min\n",
      "[CV] END model__colsample_bytree=0.7591725916836807, model__gamma=0.27783183329441313, model__learning_rate=0.21857284362135002, model__max_depth=3, model__min_child_weight=3, model__n_estimators=344, model__reg_alpha=0.010155907911833961, model__reg_lambda=0.9620395119289487, model__subsample=0.9019523033601233; total time= 1.4min\n",
      "[CV] END model__colsample_bytree=0.8886013163276192, model__gamma=0.3837342179488431, model__learning_rate=0.20575818112922575, model__max_depth=3, model__min_child_weight=6, model__n_estimators=314, model__reg_alpha=0.9747922700431634, model__reg_lambda=0.5319916330484998, model__subsample=0.9878398991278872; total time= 1.1min\n",
      "[CV] END model__colsample_bytree=0.7591725916836807, model__gamma=0.27783183329441313, model__learning_rate=0.21857284362135002, model__max_depth=3, model__min_child_weight=3, model__n_estimators=344, model__reg_alpha=0.010155907911833961, model__reg_lambda=0.9620395119289487, model__subsample=0.9019523033601233; total time= 1.4min\n",
      "[CV] END model__colsample_bytree=0.7591725916836807, model__gamma=0.27783183329441313, model__learning_rate=0.21857284362135002, model__max_depth=3, model__min_child_weight=3, model__n_estimators=344, model__reg_alpha=0.010155907911833961, model__reg_lambda=0.9620395119289487, model__subsample=0.9019523033601233; total time= 1.5min\n",
      "[CV] END model__colsample_bytree=0.7591725916836807, model__gamma=0.27783183329441313, model__learning_rate=0.21857284362135002, model__max_depth=3, model__min_child_weight=3, model__n_estimators=344, model__reg_alpha=0.010155907911833961, model__reg_lambda=0.9620395119289487, model__subsample=0.9019523033601233; total time= 1.5min\n",
      "[CV] END model__colsample_bytree=0.8886013163276192, model__gamma=0.3837342179488431, model__learning_rate=0.20575818112922575, model__max_depth=3, model__min_child_weight=6, model__n_estimators=314, model__reg_alpha=0.9747922700431634, model__reg_lambda=0.5319916330484998, model__subsample=0.9878398991278872; total time= 1.1min\n",
      "[CV] END model__colsample_bytree=0.8886013163276192, model__gamma=0.3837342179488431, model__learning_rate=0.20575818112922575, model__max_depth=3, model__min_child_weight=6, model__n_estimators=314, model__reg_alpha=0.9747922700431634, model__reg_lambda=0.5319916330484998, model__subsample=0.9878398991278872; total time= 1.1min\n",
      "[CV] END model__colsample_bytree=0.8886013163276192, model__gamma=0.3837342179488431, model__learning_rate=0.20575818112922575, model__max_depth=3, model__min_child_weight=6, model__n_estimators=314, model__reg_alpha=0.9747922700431634, model__reg_lambda=0.5319916330484998, model__subsample=0.9878398991278872; total time= 1.1min\n",
      "[CV] END model__colsample_bytree=0.8886013163276192, model__gamma=0.3837342179488431, model__learning_rate=0.20575818112922575, model__max_depth=3, model__min_child_weight=6, model__n_estimators=314, model__reg_alpha=0.9747922700431634, model__reg_lambda=0.5319916330484998, model__subsample=0.9878398991278872; total time= 1.1min\n",
      "[CV] END model__colsample_bytree=0.8076452259701364, model__gamma=0.09506525327198412, model__learning_rate=0.10471660557530932, model__max_depth=7, model__min_child_weight=1, model__n_estimators=278, model__reg_alpha=0.7883652496224248, model__reg_lambda=0.41824740488863255, model__subsample=0.9331966543461702; total time= 1.4min\n",
      "[CV] END model__colsample_bytree=0.8076452259701364, model__gamma=0.09506525327198412, model__learning_rate=0.10471660557530932, model__max_depth=7, model__min_child_weight=1, model__n_estimators=278, model__reg_alpha=0.7883652496224248, model__reg_lambda=0.41824740488863255, model__subsample=0.9331966543461702; total time= 1.4min\n",
      "[CV] END model__colsample_bytree=0.8076452259701364, model__gamma=0.09506525327198412, model__learning_rate=0.10471660557530932, model__max_depth=7, model__min_child_weight=1, model__n_estimators=278, model__reg_alpha=0.7883652496224248, model__reg_lambda=0.41824740488863255, model__subsample=0.9331966543461702; total time= 1.4min\n",
      "[CV] END model__colsample_bytree=0.8076452259701364, model__gamma=0.09506525327198412, model__learning_rate=0.10471660557530932, model__max_depth=7, model__min_child_weight=1, model__n_estimators=278, model__reg_alpha=0.7883652496224248, model__reg_lambda=0.41824740488863255, model__subsample=0.9331966543461702; total time= 1.5min\n",
      "[CV] END model__colsample_bytree=0.9390450068611582, model__gamma=0.049074019730345864, model__learning_rate=0.18070439904598548, model__max_depth=4, model__min_child_weight=6, model__n_estimators=190, model__reg_alpha=0.8276807484003346, model__reg_lambda=0.32246497360673576, model__subsample=0.6859930616390696; total time=  58.8s\n",
      "[CV] END model__colsample_bytree=0.9390450068611582, model__gamma=0.049074019730345864, model__learning_rate=0.18070439904598548, model__max_depth=4, model__min_child_weight=6, model__n_estimators=190, model__reg_alpha=0.8276807484003346, model__reg_lambda=0.32246497360673576, model__subsample=0.6859930616390696; total time= 1.0min\n",
      "[CV] END model__colsample_bytree=0.9390450068611582, model__gamma=0.049074019730345864, model__learning_rate=0.18070439904598548, model__max_depth=4, model__min_child_weight=6, model__n_estimators=190, model__reg_alpha=0.8276807484003346, model__reg_lambda=0.32246497360673576, model__subsample=0.6859930616390696; total time= 1.0min\n",
      "[CV] END model__colsample_bytree=0.8076452259701364, model__gamma=0.09506525327198412, model__learning_rate=0.10471660557530932, model__max_depth=7, model__min_child_weight=1, model__n_estimators=278, model__reg_alpha=0.7883652496224248, model__reg_lambda=0.41824740488863255, model__subsample=0.9331966543461702; total time= 1.4min\n",
      "[CV] END model__colsample_bytree=0.9390450068611582, model__gamma=0.049074019730345864, model__learning_rate=0.18070439904598548, model__max_depth=4, model__min_child_weight=6, model__n_estimators=190, model__reg_alpha=0.8276807484003346, model__reg_lambda=0.32246497360673576, model__subsample=0.6859930616390696; total time=  58.4s\n",
      "[CV] END model__colsample_bytree=0.9390450068611582, model__gamma=0.049074019730345864, model__learning_rate=0.18070439904598548, model__max_depth=4, model__min_child_weight=6, model__n_estimators=190, model__reg_alpha=0.8276807484003346, model__reg_lambda=0.32246497360673576, model__subsample=0.6859930616390696; total time= 1.0min\n",
      "[CV] END model__colsample_bytree=0.6692368583953843, model__gamma=0.18283804278410937, model__learning_rate=0.1531993216484672, model__max_depth=6, model__min_child_weight=6, model__n_estimators=191, model__reg_alpha=0.6809766614177752, model__reg_lambda=0.4869547018485155, model__subsample=0.9196899413231925; total time= 1.0min\n",
      "[CV] END model__colsample_bytree=0.6692368583953843, model__gamma=0.18283804278410937, model__learning_rate=0.1531993216484672, model__max_depth=6, model__min_child_weight=6, model__n_estimators=191, model__reg_alpha=0.6809766614177752, model__reg_lambda=0.4869547018485155, model__subsample=0.9196899413231925; total time= 1.1min\n",
      "[CV] END model__colsample_bytree=0.6692368583953843, model__gamma=0.18283804278410937, model__learning_rate=0.1531993216484672, model__max_depth=6, model__min_child_weight=6, model__n_estimators=191, model__reg_alpha=0.6809766614177752, model__reg_lambda=0.4869547018485155, model__subsample=0.9196899413231925; total time= 1.1min\n",
      "[CV] END model__colsample_bytree=0.6692368583953843, model__gamma=0.18283804278410937, model__learning_rate=0.1531993216484672, model__max_depth=6, model__min_child_weight=6, model__n_estimators=191, model__reg_alpha=0.6809766614177752, model__reg_lambda=0.4869547018485155, model__subsample=0.9196899413231925; total time= 1.1min\n",
      "[CV] END model__colsample_bytree=0.6692368583953843, model__gamma=0.18283804278410937, model__learning_rate=0.1531993216484672, model__max_depth=6, model__min_child_weight=6, model__n_estimators=191, model__reg_alpha=0.6809766614177752, model__reg_lambda=0.4869547018485155, model__subsample=0.9196899413231925; total time= 1.1min\n",
      "[CV] END model__colsample_bytree=0.9328114813653345, model__gamma=0.3928264489224062, model__learning_rate=0.1613546268611132, model__max_depth=9, model__min_child_weight=9, model__n_estimators=388, model__reg_alpha=0.2552307682848465, model__reg_lambda=0.5531257841583925, model__subsample=0.5781654945354635; total time= 2.1min\n",
      "[CV] END model__colsample_bytree=0.9328114813653345, model__gamma=0.3928264489224062, model__learning_rate=0.1613546268611132, model__max_depth=9, model__min_child_weight=9, model__n_estimators=388, model__reg_alpha=0.2552307682848465, model__reg_lambda=0.5531257841583925, model__subsample=0.5781654945354635; total time= 2.0min\n",
      "[CV] END model__colsample_bytree=0.9328114813653345, model__gamma=0.3928264489224062, model__learning_rate=0.1613546268611132, model__max_depth=9, model__min_child_weight=9, model__n_estimators=388, model__reg_alpha=0.2552307682848465, model__reg_lambda=0.5531257841583925, model__subsample=0.5781654945354635; total time= 2.1min\n",
      "[CV] END model__colsample_bytree=0.9328114813653345, model__gamma=0.3928264489224062, model__learning_rate=0.1613546268611132, model__max_depth=9, model__min_child_weight=9, model__n_estimators=388, model__reg_alpha=0.2552307682848465, model__reg_lambda=0.5531257841583925, model__subsample=0.5781654945354635; total time= 2.0min\n",
      "[CV] END model__colsample_bytree=0.9328114813653345, model__gamma=0.3928264489224062, model__learning_rate=0.1613546268611132, model__max_depth=9, model__min_child_weight=9, model__n_estimators=388, model__reg_alpha=0.2552307682848465, model__reg_lambda=0.5531257841583925, model__subsample=0.5781654945354635; total time= 2.1min\n",
      "[CV] END model__colsample_bytree=0.5354998755389755, model__gamma=0.20362530353240182, model__learning_rate=0.03248444562440666, model__max_depth=4, model__min_child_weight=8, model__n_estimators=400, model__reg_alpha=0.36347468525619, model__reg_lambda=0.1856252685639792, model__subsample=0.8940783856247998; total time= 2.0min\n",
      "[CV] END model__colsample_bytree=0.5354998755389755, model__gamma=0.20362530353240182, model__learning_rate=0.03248444562440666, model__max_depth=4, model__min_child_weight=8, model__n_estimators=400, model__reg_alpha=0.36347468525619, model__reg_lambda=0.1856252685639792, model__subsample=0.8940783856247998; total time= 2.0min\n",
      "[CV] END model__colsample_bytree=0.5354998755389755, model__gamma=0.20362530353240182, model__learning_rate=0.03248444562440666, model__max_depth=4, model__min_child_weight=8, model__n_estimators=400, model__reg_alpha=0.36347468525619, model__reg_lambda=0.1856252685639792, model__subsample=0.8940783856247998; total time= 2.0min\n",
      "[CV] END model__colsample_bytree=0.5354998755389755, model__gamma=0.20362530353240182, model__learning_rate=0.03248444562440666, model__max_depth=4, model__min_child_weight=8, model__n_estimators=400, model__reg_alpha=0.36347468525619, model__reg_lambda=0.1856252685639792, model__subsample=0.8940783856247998; total time= 2.1min\n",
      "[CV] END model__colsample_bytree=0.890983173972596, model__gamma=0.47657018831427933, model__learning_rate=0.04338438174014911, model__max_depth=6, model__min_child_weight=8, model__n_estimators=316, model__reg_alpha=0.4586650947842982, model__reg_lambda=0.6583188589799878, model__subsample=0.7208041961442861; total time= 1.8min\n",
      "[CV] END model__colsample_bytree=0.890983173972596, model__gamma=0.47657018831427933, model__learning_rate=0.04338438174014911, model__max_depth=6, model__min_child_weight=8, model__n_estimators=316, model__reg_alpha=0.4586650947842982, model__reg_lambda=0.6583188589799878, model__subsample=0.7208041961442861; total time= 1.8min\n",
      "[CV] END model__colsample_bytree=0.5354998755389755, model__gamma=0.20362530353240182, model__learning_rate=0.03248444562440666, model__max_depth=4, model__min_child_weight=8, model__n_estimators=400, model__reg_alpha=0.36347468525619, model__reg_lambda=0.1856252685639792, model__subsample=0.8940783856247998; total time= 2.0min\n",
      "[CV] END model__colsample_bytree=0.9964369911685552, model__gamma=0.23502535662506163, model__learning_rate=0.013538795710071662, model__max_depth=4, model__min_child_weight=7, model__n_estimators=260, model__reg_alpha=0.8635652822756026, model__reg_lambda=0.6922736213833436, model__subsample=0.9084637468545627; total time= 1.3min\n",
      "[CV] END model__colsample_bytree=0.890983173972596, model__gamma=0.47657018831427933, model__learning_rate=0.04338438174014911, model__max_depth=6, model__min_child_weight=8, model__n_estimators=316, model__reg_alpha=0.4586650947842982, model__reg_lambda=0.6583188589799878, model__subsample=0.7208041961442861; total time= 1.7min\n",
      "[CV] END model__colsample_bytree=0.890983173972596, model__gamma=0.47657018831427933, model__learning_rate=0.04338438174014911, model__max_depth=6, model__min_child_weight=8, model__n_estimators=316, model__reg_alpha=0.4586650947842982, model__reg_lambda=0.6583188589799878, model__subsample=0.7208041961442861; total time= 1.8min\n",
      "[CV] END model__colsample_bytree=0.890983173972596, model__gamma=0.47657018831427933, model__learning_rate=0.04338438174014911, model__max_depth=6, model__min_child_weight=8, model__n_estimators=316, model__reg_alpha=0.4586650947842982, model__reg_lambda=0.6583188589799878, model__subsample=0.7208041961442861; total time= 2.0min\n",
      "[CV] END model__colsample_bytree=0.9964369911685552, model__gamma=0.23502535662506163, model__learning_rate=0.013538795710071662, model__max_depth=4, model__min_child_weight=7, model__n_estimators=260, model__reg_alpha=0.8635652822756026, model__reg_lambda=0.6922736213833436, model__subsample=0.9084637468545627; total time= 1.4min\n",
      "[CV] END model__colsample_bytree=0.9964369911685552, model__gamma=0.23502535662506163, model__learning_rate=0.013538795710071662, model__max_depth=4, model__min_child_weight=7, model__n_estimators=260, model__reg_alpha=0.8635652822756026, model__reg_lambda=0.6922736213833436, model__subsample=0.9084637468545627; total time= 1.4min\n",
      "[CV] END model__colsample_bytree=0.9964369911685552, model__gamma=0.23502535662506163, model__learning_rate=0.013538795710071662, model__max_depth=4, model__min_child_weight=7, model__n_estimators=260, model__reg_alpha=0.8635652822756026, model__reg_lambda=0.6922736213833436, model__subsample=0.9084637468545627; total time= 1.3min\n",
      "[CV] END model__colsample_bytree=0.9964369911685552, model__gamma=0.23502535662506163, model__learning_rate=0.013538795710071662, model__max_depth=4, model__min_child_weight=7, model__n_estimators=260, model__reg_alpha=0.8635652822756026, model__reg_lambda=0.6922736213833436, model__subsample=0.9084637468545627; total time= 1.3min\n",
      "[CV] END model__colsample_bytree=0.6850931288712914, model__gamma=0.29624590934007294, model__learning_rate=0.22109533253735317, model__max_depth=8, model__min_child_weight=2, model__n_estimators=185, model__reg_alpha=0.7815249142352866, model__reg_lambda=0.11754974419248232, model__subsample=0.6476463799301259; total time=  59.4s\n",
      "[CV] END model__colsample_bytree=0.6850931288712914, model__gamma=0.29624590934007294, model__learning_rate=0.22109533253735317, model__max_depth=8, model__min_child_weight=2, model__n_estimators=185, model__reg_alpha=0.7815249142352866, model__reg_lambda=0.11754974419248232, model__subsample=0.6476463799301259; total time= 1.0min\n",
      "[CV] END model__colsample_bytree=0.6850931288712914, model__gamma=0.29624590934007294, model__learning_rate=0.22109533253735317, model__max_depth=8, model__min_child_weight=2, model__n_estimators=185, model__reg_alpha=0.7815249142352866, model__reg_lambda=0.11754974419248232, model__subsample=0.6476463799301259; total time= 1.0min\n",
      "[CV] END model__colsample_bytree=0.5992981873607941, model__gamma=0.1379862097015364, model__learning_rate=0.19000624271874966, model__max_depth=3, model__min_child_weight=4, model__n_estimators=77, model__reg_alpha=0.6869611726184149, model__reg_lambda=0.8476790015135023, model__subsample=0.7301916347025093; total time=  23.9s\n",
      "[CV] END model__colsample_bytree=0.6850931288712914, model__gamma=0.29624590934007294, model__learning_rate=0.22109533253735317, model__max_depth=8, model__min_child_weight=2, model__n_estimators=185, model__reg_alpha=0.7815249142352866, model__reg_lambda=0.11754974419248232, model__subsample=0.6476463799301259; total time= 1.0min\n",
      "[CV] END model__colsample_bytree=0.5992981873607941, model__gamma=0.1379862097015364, model__learning_rate=0.19000624271874966, model__max_depth=3, model__min_child_weight=4, model__n_estimators=77, model__reg_alpha=0.6869611726184149, model__reg_lambda=0.8476790015135023, model__subsample=0.7301916347025093; total time=  24.8s\n",
      "[CV] END model__colsample_bytree=0.5992981873607941, model__gamma=0.1379862097015364, model__learning_rate=0.19000624271874966, model__max_depth=3, model__min_child_weight=4, model__n_estimators=77, model__reg_alpha=0.6869611726184149, model__reg_lambda=0.8476790015135023, model__subsample=0.7301916347025093; total time=  23.7s\n",
      "[CV] END model__colsample_bytree=0.5992981873607941, model__gamma=0.1379862097015364, model__learning_rate=0.19000624271874966, model__max_depth=3, model__min_child_weight=4, model__n_estimators=77, model__reg_alpha=0.6869611726184149, model__reg_lambda=0.8476790015135023, model__subsample=0.7301916347025093; total time=  23.4s\n",
      "[CV] END model__colsample_bytree=0.6850931288712914, model__gamma=0.29624590934007294, model__learning_rate=0.22109533253735317, model__max_depth=8, model__min_child_weight=2, model__n_estimators=185, model__reg_alpha=0.7815249142352866, model__reg_lambda=0.11754974419248232, model__subsample=0.6476463799301259; total time=  59.0s\n",
      "[CV] END model__colsample_bytree=0.5992981873607941, model__gamma=0.1379862097015364, model__learning_rate=0.19000624271874966, model__max_depth=3, model__min_child_weight=4, model__n_estimators=77, model__reg_alpha=0.6869611726184149, model__reg_lambda=0.8476790015135023, model__subsample=0.7301916347025093; total time=  23.9s\n",
      "[CV] END model__colsample_bytree=0.9678939310731458, model__gamma=0.24442437818035995, model__learning_rate=0.2852185297079568, model__max_depth=4, model__min_child_weight=6, model__n_estimators=340, model__reg_alpha=0.8746976873412994, model__reg_lambda=0.5866234733952786, model__subsample=0.6344864988509797; total time= 1.7min\n",
      "[CV] END model__colsample_bytree=0.9678939310731458, model__gamma=0.24442437818035995, model__learning_rate=0.2852185297079568, model__max_depth=4, model__min_child_weight=6, model__n_estimators=340, model__reg_alpha=0.8746976873412994, model__reg_lambda=0.5866234733952786, model__subsample=0.6344864988509797; total time= 1.8min\n",
      "[CV] END model__colsample_bytree=0.9678939310731458, model__gamma=0.24442437818035995, model__learning_rate=0.2852185297079568, model__max_depth=4, model__min_child_weight=6, model__n_estimators=340, model__reg_alpha=0.8746976873412994, model__reg_lambda=0.5866234733952786, model__subsample=0.6344864988509797; total time= 1.6min\n",
      "[CV] END model__colsample_bytree=0.9678939310731458, model__gamma=0.24442437818035995, model__learning_rate=0.2852185297079568, model__max_depth=4, model__min_child_weight=6, model__n_estimators=340, model__reg_alpha=0.8746976873412994, model__reg_lambda=0.5866234733952786, model__subsample=0.6344864988509797; total time= 1.8min\n",
      "[CV] END model__colsample_bytree=0.708472074516624, model__gamma=0.21910674557602633, model__learning_rate=0.14469902920838915, model__max_depth=7, model__min_child_weight=3, model__n_estimators=88, model__reg_alpha=0.4292106921473138, model__reg_lambda=0.32974527854876334, model__subsample=0.5477865958299286; total time=  36.0s\n",
      "[CV] END model__colsample_bytree=0.708472074516624, model__gamma=0.21910674557602633, model__learning_rate=0.14469902920838915, model__max_depth=7, model__min_child_weight=3, model__n_estimators=88, model__reg_alpha=0.4292106921473138, model__reg_lambda=0.32974527854876334, model__subsample=0.5477865958299286; total time=  35.8s\n",
      "[CV] END model__colsample_bytree=0.708472074516624, model__gamma=0.21910674557602633, model__learning_rate=0.14469902920838915, model__max_depth=7, model__min_child_weight=3, model__n_estimators=88, model__reg_alpha=0.4292106921473138, model__reg_lambda=0.32974527854876334, model__subsample=0.5477865958299286; total time=  38.1s\n",
      "[CV] END model__colsample_bytree=0.708472074516624, model__gamma=0.21910674557602633, model__learning_rate=0.14469902920838915, model__max_depth=7, model__min_child_weight=3, model__n_estimators=88, model__reg_alpha=0.4292106921473138, model__reg_lambda=0.32974527854876334, model__subsample=0.5477865958299286; total time=  36.1s\n",
      "[CV] END model__colsample_bytree=0.708472074516624, model__gamma=0.21910674557602633, model__learning_rate=0.14469902920838915, model__max_depth=7, model__min_child_weight=3, model__n_estimators=88, model__reg_alpha=0.4292106921473138, model__reg_lambda=0.32974527854876334, model__subsample=0.5477865958299286; total time=  36.0s\n",
      "[CV] END model__colsample_bytree=0.9678939310731458, model__gamma=0.24442437818035995, model__learning_rate=0.2852185297079568, model__max_depth=4, model__min_child_weight=6, model__n_estimators=340, model__reg_alpha=0.8746976873412994, model__reg_lambda=0.5866234733952786, model__subsample=0.6344864988509797; total time= 1.7min\n",
      "[CV] END model__colsample_bytree=0.5432274655858406, model__gamma=0.20002408469804422, model__learning_rate=0.019787562985167387, model__max_depth=5, model__min_child_weight=6, model__n_estimators=244, model__reg_alpha=0.4994984289980632, model__reg_lambda=0.37976951280931437, model__subsample=0.5928052408060297; total time= 1.5min\n",
      "[CV] END model__colsample_bytree=0.5432274655858406, model__gamma=0.20002408469804422, model__learning_rate=0.019787562985167387, model__max_depth=5, model__min_child_weight=6, model__n_estimators=244, model__reg_alpha=0.4994984289980632, model__reg_lambda=0.37976951280931437, model__subsample=0.5928052408060297; total time= 1.3min\n",
      "[CV] END model__colsample_bytree=0.5432274655858406, model__gamma=0.20002408469804422, model__learning_rate=0.019787562985167387, model__max_depth=5, model__min_child_weight=6, model__n_estimators=244, model__reg_alpha=0.4994984289980632, model__reg_lambda=0.37976951280931437, model__subsample=0.5928052408060297; total time= 1.4min\n",
      "[CV] END model__colsample_bytree=0.5432274655858406, model__gamma=0.20002408469804422, model__learning_rate=0.019787562985167387, model__max_depth=5, model__min_child_weight=6, model__n_estimators=244, model__reg_alpha=0.4994984289980632, model__reg_lambda=0.37976951280931437, model__subsample=0.5928052408060297; total time= 1.5min\n",
      "[CV] END model__colsample_bytree=0.5432274655858406, model__gamma=0.20002408469804422, model__learning_rate=0.019787562985167387, model__max_depth=5, model__min_child_weight=6, model__n_estimators=244, model__reg_alpha=0.4994984289980632, model__reg_lambda=0.37976951280931437, model__subsample=0.5928052408060297; total time= 1.4min\n",
      "[CV] END model__colsample_bytree=0.6888273975749566, model__gamma=0.10354023659801986, model__learning_rate=0.26742018993150896, model__max_depth=6, model__min_child_weight=1, model__n_estimators=213, model__reg_alpha=0.04772890892741444, model__reg_lambda=0.09182631197902635, model__subsample=0.6531184512221104; total time= 1.2min\n",
      "[CV] END model__colsample_bytree=0.6888273975749566, model__gamma=0.10354023659801986, model__learning_rate=0.26742018993150896, model__max_depth=6, model__min_child_weight=1, model__n_estimators=213, model__reg_alpha=0.04772890892741444, model__reg_lambda=0.09182631197902635, model__subsample=0.6531184512221104; total time= 1.2min\n",
      "[CV] END model__colsample_bytree=0.6888273975749566, model__gamma=0.10354023659801986, model__learning_rate=0.26742018993150896, model__max_depth=6, model__min_child_weight=1, model__n_estimators=213, model__reg_alpha=0.04772890892741444, model__reg_lambda=0.09182631197902635, model__subsample=0.6531184512221104; total time= 1.2min\n",
      "[CV] END model__colsample_bytree=0.6888273975749566, model__gamma=0.10354023659801986, model__learning_rate=0.26742018993150896, model__max_depth=6, model__min_child_weight=1, model__n_estimators=213, model__reg_alpha=0.04772890892741444, model__reg_lambda=0.09182631197902635, model__subsample=0.6531184512221104; total time= 1.2min\n",
      "[CV] END model__colsample_bytree=0.6888273975749566, model__gamma=0.10354023659801986, model__learning_rate=0.26742018993150896, model__max_depth=6, model__min_child_weight=1, model__n_estimators=213, model__reg_alpha=0.04772890892741444, model__reg_lambda=0.09182631197902635, model__subsample=0.6531184512221104; total time= 1.2min\n",
      "[CV] END model__colsample_bytree=0.877754507066056, model__gamma=0.14359561143943483, model__learning_rate=0.045094462637981815, model__max_depth=6, model__min_child_weight=5, model__n_estimators=483, model__reg_alpha=0.11495014257212577, model__reg_lambda=0.8448705061418543, model__subsample=0.7701088770962186; total time= 3.0min\n",
      "[CV] END model__colsample_bytree=0.877754507066056, model__gamma=0.14359561143943483, model__learning_rate=0.045094462637981815, model__max_depth=6, model__min_child_weight=5, model__n_estimators=483, model__reg_alpha=0.11495014257212577, model__reg_lambda=0.8448705061418543, model__subsample=0.7701088770962186; total time= 2.8min\n",
      "[CV] END model__colsample_bytree=0.877754507066056, model__gamma=0.14359561143943483, model__learning_rate=0.045094462637981815, model__max_depth=6, model__min_child_weight=5, model__n_estimators=483, model__reg_alpha=0.11495014257212577, model__reg_lambda=0.8448705061418543, model__subsample=0.7701088770962186; total time= 2.9min\n",
      "[CV] END model__colsample_bytree=0.877754507066056, model__gamma=0.14359561143943483, model__learning_rate=0.045094462637981815, model__max_depth=6, model__min_child_weight=5, model__n_estimators=483, model__reg_alpha=0.11495014257212577, model__reg_lambda=0.8448705061418543, model__subsample=0.7701088770962186; total time= 2.8min\n",
      "[CV] END model__colsample_bytree=0.9446045444923554, model__gamma=0.34804245115426347, model__learning_rate=0.07872126060801532, model__max_depth=6, model__min_child_weight=7, model__n_estimators=380, model__reg_alpha=0.3274951438325089, model__reg_lambda=0.9057112594596453, model__subsample=0.9334537900321619; total time= 1.8min\n",
      "[CV] END model__colsample_bytree=0.877754507066056, model__gamma=0.14359561143943483, model__learning_rate=0.045094462637981815, model__max_depth=6, model__min_child_weight=5, model__n_estimators=483, model__reg_alpha=0.11495014257212577, model__reg_lambda=0.8448705061418543, model__subsample=0.7701088770962186; total time= 2.7min\n",
      "[CV] END model__colsample_bytree=0.9446045444923554, model__gamma=0.34804245115426347, model__learning_rate=0.07872126060801532, model__max_depth=6, model__min_child_weight=7, model__n_estimators=380, model__reg_alpha=0.3274951438325089, model__reg_lambda=0.9057112594596453, model__subsample=0.9334537900321619; total time= 1.9min\n",
      "[CV] END model__colsample_bytree=0.9446045444923554, model__gamma=0.34804245115426347, model__learning_rate=0.07872126060801532, model__max_depth=6, model__min_child_weight=7, model__n_estimators=380, model__reg_alpha=0.3274951438325089, model__reg_lambda=0.9057112594596453, model__subsample=0.9334537900321619; total time= 2.0min\n",
      "[CV] END model__colsample_bytree=0.831472223279232, model__gamma=0.24961040263621087, model__learning_rate=0.2025894438786899, model__max_depth=6, model__min_child_weight=3, model__n_estimators=70, model__reg_alpha=0.5592234090279027, model__reg_lambda=0.7341597029346184, model__subsample=0.7808946814202079; total time=  28.2s\n",
      "[CV] END model__colsample_bytree=0.831472223279232, model__gamma=0.24961040263621087, model__learning_rate=0.2025894438786899, model__max_depth=6, model__min_child_weight=3, model__n_estimators=70, model__reg_alpha=0.5592234090279027, model__reg_lambda=0.7341597029346184, model__subsample=0.7808946814202079; total time=  30.9s\n",
      "[CV] END model__colsample_bytree=0.831472223279232, model__gamma=0.24961040263621087, model__learning_rate=0.2025894438786899, model__max_depth=6, model__min_child_weight=3, model__n_estimators=70, model__reg_alpha=0.5592234090279027, model__reg_lambda=0.7341597029346184, model__subsample=0.7808946814202079; total time=  29.0s\n",
      "[CV] END model__colsample_bytree=0.831472223279232, model__gamma=0.24961040263621087, model__learning_rate=0.2025894438786899, model__max_depth=6, model__min_child_weight=3, model__n_estimators=70, model__reg_alpha=0.5592234090279027, model__reg_lambda=0.7341597029346184, model__subsample=0.7808946814202079; total time=  27.7s\n",
      "[CV] END model__colsample_bytree=0.9446045444923554, model__gamma=0.34804245115426347, model__learning_rate=0.07872126060801532, model__max_depth=6, model__min_child_weight=7, model__n_estimators=380, model__reg_alpha=0.3274951438325089, model__reg_lambda=0.9057112594596453, model__subsample=0.9334537900321619; total time= 2.0min\n",
      "[CV] END model__colsample_bytree=0.831472223279232, model__gamma=0.24961040263621087, model__learning_rate=0.2025894438786899, model__max_depth=6, model__min_child_weight=3, model__n_estimators=70, model__reg_alpha=0.5592234090279027, model__reg_lambda=0.7341597029346184, model__subsample=0.7808946814202079; total time=  28.9s\n",
      "[CV] END model__colsample_bytree=0.9446045444923554, model__gamma=0.34804245115426347, model__learning_rate=0.07872126060801532, model__max_depth=6, model__min_child_weight=7, model__n_estimators=380, model__reg_alpha=0.3274951438325089, model__reg_lambda=0.9057112594596453, model__subsample=0.9334537900321619; total time= 1.9min\n",
      "[CV] END model__colsample_bytree=0.7251629324459, model__gamma=0.3372437776620965, model__learning_rate=0.010197548106261436, model__max_depth=8, model__min_child_weight=7, model__n_estimators=402, model__reg_alpha=0.5682482184179135, model__reg_lambda=0.03923871585056804, model__subsample=0.8035087880050098; total time= 2.6min\n",
      "[CV] END model__colsample_bytree=0.7251629324459, model__gamma=0.3372437776620965, model__learning_rate=0.010197548106261436, model__max_depth=8, model__min_child_weight=7, model__n_estimators=402, model__reg_alpha=0.5682482184179135, model__reg_lambda=0.03923871585056804, model__subsample=0.8035087880050098; total time= 2.5min\n",
      "[CV] END model__colsample_bytree=0.7251629324459, model__gamma=0.3372437776620965, model__learning_rate=0.010197548106261436, model__max_depth=8, model__min_child_weight=7, model__n_estimators=402, model__reg_alpha=0.5682482184179135, model__reg_lambda=0.03923871585056804, model__subsample=0.8035087880050098; total time= 2.6min\n",
      "[CV] END model__colsample_bytree=0.7251629324459, model__gamma=0.3372437776620965, model__learning_rate=0.010197548106261436, model__max_depth=8, model__min_child_weight=7, model__n_estimators=402, model__reg_alpha=0.5682482184179135, model__reg_lambda=0.03923871585056804, model__subsample=0.8035087880050098; total time= 2.6min\n",
      "[CV] END model__colsample_bytree=0.6887319092574216, model__gamma=0.489775014808244, model__learning_rate=0.3057361446730798, model__max_depth=8, model__min_child_weight=6, model__n_estimators=296, model__reg_alpha=0.6961525536450407, model__reg_lambda=0.4076819406230654, model__subsample=0.8281264022547589; total time= 1.2min\n",
      "[CV] END model__colsample_bytree=0.6887319092574216, model__gamma=0.489775014808244, model__learning_rate=0.3057361446730798, model__max_depth=8, model__min_child_weight=6, model__n_estimators=296, model__reg_alpha=0.6961525536450407, model__reg_lambda=0.4076819406230654, model__subsample=0.8281264022547589; total time= 1.2min\n",
      "[CV] END model__colsample_bytree=0.6887319092574216, model__gamma=0.489775014808244, model__learning_rate=0.3057361446730798, model__max_depth=8, model__min_child_weight=6, model__n_estimators=296, model__reg_alpha=0.6961525536450407, model__reg_lambda=0.4076819406230654, model__subsample=0.8281264022547589; total time= 1.2min\n",
      "[CV] END model__colsample_bytree=0.7251629324459, model__gamma=0.3372437776620965, model__learning_rate=0.010197548106261436, model__max_depth=8, model__min_child_weight=7, model__n_estimators=402, model__reg_alpha=0.5682482184179135, model__reg_lambda=0.03923871585056804, model__subsample=0.8035087880050098; total time= 2.6min\n",
      "[CV] END model__colsample_bytree=0.6887319092574216, model__gamma=0.489775014808244, model__learning_rate=0.3057361446730798, model__max_depth=8, model__min_child_weight=6, model__n_estimators=296, model__reg_alpha=0.6961525536450407, model__reg_lambda=0.4076819406230654, model__subsample=0.8281264022547589; total time= 1.2min\n",
      "[CV] END model__colsample_bytree=0.6887319092574216, model__gamma=0.489775014808244, model__learning_rate=0.3057361446730798, model__max_depth=8, model__min_child_weight=6, model__n_estimators=296, model__reg_alpha=0.6961525536450407, model__reg_lambda=0.4076819406230654, model__subsample=0.8281264022547589; total time= 1.2min\n",
      "[CV] END model__colsample_bytree=0.997461765948553, model__gamma=0.41324610111256604, model__learning_rate=0.2608449062199732, model__max_depth=3, model__min_child_weight=9, model__n_estimators=188, model__reg_alpha=0.7103351745823, model__reg_lambda=0.3318767459776447, model__subsample=0.8775983078049814; total time=  51.5s\n",
      "[CV] END model__colsample_bytree=0.997461765948553, model__gamma=0.41324610111256604, model__learning_rate=0.2608449062199732, model__max_depth=3, model__min_child_weight=9, model__n_estimators=188, model__reg_alpha=0.7103351745823, model__reg_lambda=0.3318767459776447, model__subsample=0.8775983078049814; total time=  50.1s\n",
      "[CV] END model__colsample_bytree=0.997461765948553, model__gamma=0.41324610111256604, model__learning_rate=0.2608449062199732, model__max_depth=3, model__min_child_weight=9, model__n_estimators=188, model__reg_alpha=0.7103351745823, model__reg_lambda=0.3318767459776447, model__subsample=0.8775983078049814; total time=  50.8s\n",
      "[CV] END model__colsample_bytree=0.997461765948553, model__gamma=0.41324610111256604, model__learning_rate=0.2608449062199732, model__max_depth=3, model__min_child_weight=9, model__n_estimators=188, model__reg_alpha=0.7103351745823, model__reg_lambda=0.3318767459776447, model__subsample=0.8775983078049814; total time=  51.0s\n",
      "[CV] END model__colsample_bytree=0.997461765948553, model__gamma=0.41324610111256604, model__learning_rate=0.2608449062199732, model__max_depth=3, model__min_child_weight=9, model__n_estimators=188, model__reg_alpha=0.7103351745823, model__reg_lambda=0.3318767459776447, model__subsample=0.8775983078049814; total time=  49.7s\n",
      "[CV] END model__colsample_bytree=0.9798803607863926, model__gamma=0.2873112289616082, model__learning_rate=0.018376009923328475, model__max_depth=4, model__min_child_weight=6, model__n_estimators=485, model__reg_alpha=0.29854858944510243, model__reg_lambda=0.8765920489103971, model__subsample=0.7277493816294432; total time= 2.4min\n",
      "[CV] END model__colsample_bytree=0.9798803607863926, model__gamma=0.2873112289616082, model__learning_rate=0.018376009923328475, model__max_depth=4, model__min_child_weight=6, model__n_estimators=485, model__reg_alpha=0.29854858944510243, model__reg_lambda=0.8765920489103971, model__subsample=0.7277493816294432; total time= 2.5min\n",
      "[CV] END model__colsample_bytree=0.9798803607863926, model__gamma=0.2873112289616082, model__learning_rate=0.018376009923328475, model__max_depth=4, model__min_child_weight=6, model__n_estimators=485, model__reg_alpha=0.29854858944510243, model__reg_lambda=0.8765920489103971, model__subsample=0.7277493816294432; total time= 2.3min\n",
      "[CV] END model__colsample_bytree=0.9798803607863926, model__gamma=0.2873112289616082, model__learning_rate=0.018376009923328475, model__max_depth=4, model__min_child_weight=6, model__n_estimators=485, model__reg_alpha=0.29854858944510243, model__reg_lambda=0.8765920489103971, model__subsample=0.7277493816294432; total time= 2.6min\n",
      "[CV] END model__colsample_bytree=0.8089953548849704, model__gamma=0.4485582848925815, model__learning_rate=0.1953556760022916, model__max_depth=7, model__min_child_weight=7, model__n_estimators=424, model__reg_alpha=0.12687585365752874, model__reg_lambda=0.2557982463655263, model__subsample=0.9447279794231078; total time= 1.6min\n",
      "[CV] END model__colsample_bytree=0.8089953548849704, model__gamma=0.4485582848925815, model__learning_rate=0.1953556760022916, model__max_depth=7, model__min_child_weight=7, model__n_estimators=424, model__reg_alpha=0.12687585365752874, model__reg_lambda=0.2557982463655263, model__subsample=0.9447279794231078; total time= 1.6min\n",
      "[CV] END model__colsample_bytree=0.8089953548849704, model__gamma=0.4485582848925815, model__learning_rate=0.1953556760022916, model__max_depth=7, model__min_child_weight=7, model__n_estimators=424, model__reg_alpha=0.12687585365752874, model__reg_lambda=0.2557982463655263, model__subsample=0.9447279794231078; total time= 1.7min\n",
      "[CV] END model__colsample_bytree=0.9798803607863926, model__gamma=0.2873112289616082, model__learning_rate=0.018376009923328475, model__max_depth=4, model__min_child_weight=6, model__n_estimators=485, model__reg_alpha=0.29854858944510243, model__reg_lambda=0.8765920489103971, model__subsample=0.7277493816294432; total time= 2.3min\n",
      "[CV] END model__colsample_bytree=0.8089953548849704, model__gamma=0.4485582848925815, model__learning_rate=0.1953556760022916, model__max_depth=7, model__min_child_weight=7, model__n_estimators=424, model__reg_alpha=0.12687585365752874, model__reg_lambda=0.2557982463655263, model__subsample=0.9447279794231078; total time= 1.6min\n",
      "[CV] END model__colsample_bytree=0.8089953548849704, model__gamma=0.4485582848925815, model__learning_rate=0.1953556760022916, model__max_depth=7, model__min_child_weight=7, model__n_estimators=424, model__reg_alpha=0.12687585365752874, model__reg_lambda=0.2557982463655263, model__subsample=0.9447279794231078; total time= 1.8min\n",
      "[CV] END model__colsample_bytree=0.6043385212801655, model__gamma=0.22054560186040817, model__learning_rate=0.22907742016469665, model__max_depth=4, model__min_child_weight=6, model__n_estimators=429, model__reg_alpha=0.9221708037496122, model__reg_lambda=0.3629432114246537, model__subsample=0.5866470781485256; total time= 2.0min\n",
      "[CV] END model__colsample_bytree=0.6043385212801655, model__gamma=0.22054560186040817, model__learning_rate=0.22907742016469665, model__max_depth=4, model__min_child_weight=6, model__n_estimators=429, model__reg_alpha=0.9221708037496122, model__reg_lambda=0.3629432114246537, model__subsample=0.5866470781485256; total time= 2.0min\n",
      "[CV] END model__colsample_bytree=0.6043385212801655, model__gamma=0.22054560186040817, model__learning_rate=0.22907742016469665, model__max_depth=4, model__min_child_weight=6, model__n_estimators=429, model__reg_alpha=0.9221708037496122, model__reg_lambda=0.3629432114246537, model__subsample=0.5866470781485256; total time= 2.0min\n",
      "[CV] END model__colsample_bytree=0.6043385212801655, model__gamma=0.22054560186040817, model__learning_rate=0.22907742016469665, model__max_depth=4, model__min_child_weight=6, model__n_estimators=429, model__reg_alpha=0.9221708037496122, model__reg_lambda=0.3629432114246537, model__subsample=0.5866470781485256; total time= 2.2min\n",
      "[CV] END model__colsample_bytree=0.6043385212801655, model__gamma=0.22054560186040817, model__learning_rate=0.22907742016469665, model__max_depth=4, model__min_child_weight=6, model__n_estimators=429, model__reg_alpha=0.9221708037496122, model__reg_lambda=0.3629432114246537, model__subsample=0.5866470781485256; total time= 2.0min\n",
      "[CV] END model__colsample_bytree=0.7447292425409083, model__gamma=0.32330840907098773, model__learning_rate=0.04418906555466695, model__max_depth=3, model__min_child_weight=1, model__n_estimators=335, model__reg_alpha=0.578827968759821, model__reg_lambda=0.8762396113708995, model__subsample=0.7788049682745103; total time= 1.5min\n",
      "[CV] END model__colsample_bytree=0.7447292425409083, model__gamma=0.32330840907098773, model__learning_rate=0.04418906555466695, model__max_depth=3, model__min_child_weight=1, model__n_estimators=335, model__reg_alpha=0.578827968759821, model__reg_lambda=0.8762396113708995, model__subsample=0.7788049682745103; total time= 1.4min\n",
      "[CV] END model__colsample_bytree=0.7447292425409083, model__gamma=0.32330840907098773, model__learning_rate=0.04418906555466695, model__max_depth=3, model__min_child_weight=1, model__n_estimators=335, model__reg_alpha=0.578827968759821, model__reg_lambda=0.8762396113708995, model__subsample=0.7788049682745103; total time= 1.4min\n",
      "[CV] END model__colsample_bytree=0.7447292425409083, model__gamma=0.32330840907098773, model__learning_rate=0.04418906555466695, model__max_depth=3, model__min_child_weight=1, model__n_estimators=335, model__reg_alpha=0.578827968759821, model__reg_lambda=0.8762396113708995, model__subsample=0.7788049682745103; total time= 1.5min\n",
      "[CV] END model__colsample_bytree=0.7447292425409083, model__gamma=0.32330840907098773, model__learning_rate=0.04418906555466695, model__max_depth=3, model__min_child_weight=1, model__n_estimators=335, model__reg_alpha=0.578827968759821, model__reg_lambda=0.8762396113708995, model__subsample=0.7788049682745103; total time= 1.6min\n",
      "[CV] END model__colsample_bytree=0.9103996610893246, model__gamma=0.2883770181485367, model__learning_rate=0.2736843833864624, model__max_depth=3, model__min_child_weight=9, model__n_estimators=399, model__reg_alpha=0.7442123413264514, model__reg_lambda=0.643215190265324, model__subsample=0.8376964414605421; total time= 1.7min\n",
      "[CV] END model__colsample_bytree=0.9103996610893246, model__gamma=0.2883770181485367, model__learning_rate=0.2736843833864624, model__max_depth=3, model__min_child_weight=9, model__n_estimators=399, model__reg_alpha=0.7442123413264514, model__reg_lambda=0.643215190265324, model__subsample=0.8376964414605421; total time= 1.7min\n",
      "[CV] END model__colsample_bytree=0.9103996610893246, model__gamma=0.2883770181485367, model__learning_rate=0.2736843833864624, model__max_depth=3, model__min_child_weight=9, model__n_estimators=399, model__reg_alpha=0.7442123413264514, model__reg_lambda=0.643215190265324, model__subsample=0.8376964414605421; total time= 1.7min\n",
      "[CV] END model__colsample_bytree=0.9103996610893246, model__gamma=0.2883770181485367, model__learning_rate=0.2736843833864624, model__max_depth=3, model__min_child_weight=9, model__n_estimators=399, model__reg_alpha=0.7442123413264514, model__reg_lambda=0.643215190265324, model__subsample=0.8376964414605421; total time= 1.8min\n",
      "[CV] END model__colsample_bytree=0.9103996610893246, model__gamma=0.2883770181485367, model__learning_rate=0.2736843833864624, model__max_depth=3, model__min_child_weight=9, model__n_estimators=399, model__reg_alpha=0.7442123413264514, model__reg_lambda=0.643215190265324, model__subsample=0.8376964414605421; total time= 1.7min\n",
      "[CV] END model__colsample_bytree=0.5913153595285845, model__gamma=0.2500828799794922, model__learning_rate=0.12103969961157442, model__max_depth=6, model__min_child_weight=6, model__n_estimators=430, model__reg_alpha=0.7012973971034091, model__reg_lambda=0.5858107381173175, model__subsample=0.596106212479603; total time= 2.2min\n",
      "[CV] END model__colsample_bytree=0.5913153595285845, model__gamma=0.2500828799794922, model__learning_rate=0.12103969961157442, model__max_depth=6, model__min_child_weight=6, model__n_estimators=430, model__reg_alpha=0.7012973971034091, model__reg_lambda=0.5858107381173175, model__subsample=0.596106212479603; total time= 2.3min\n",
      "[CV] END model__colsample_bytree=0.5913153595285845, model__gamma=0.2500828799794922, model__learning_rate=0.12103969961157442, model__max_depth=6, model__min_child_weight=6, model__n_estimators=430, model__reg_alpha=0.7012973971034091, model__reg_lambda=0.5858107381173175, model__subsample=0.596106212479603; total time= 2.2min\n",
      "[CV] END model__colsample_bytree=0.5587314447293206, model__gamma=0.09656013427529242, model__learning_rate=0.17714848818434778, model__max_depth=7, model__min_child_weight=8, model__n_estimators=134, model__reg_alpha=0.780666282583287, model__reg_lambda=0.1982881071848237, model__subsample=0.573829947566449; total time=  48.6s\n",
      "[CV] END model__colsample_bytree=0.5587314447293206, model__gamma=0.09656013427529242, model__learning_rate=0.17714848818434778, model__max_depth=7, model__min_child_weight=8, model__n_estimators=134, model__reg_alpha=0.780666282583287, model__reg_lambda=0.1982881071848237, model__subsample=0.573829947566449; total time=  49.8s\n",
      "[CV] END model__colsample_bytree=0.5913153595285845, model__gamma=0.2500828799794922, model__learning_rate=0.12103969961157442, model__max_depth=6, model__min_child_weight=6, model__n_estimators=430, model__reg_alpha=0.7012973971034091, model__reg_lambda=0.5858107381173175, model__subsample=0.596106212479603; total time= 2.4min\n",
      "[CV] END model__colsample_bytree=0.5587314447293206, model__gamma=0.09656013427529242, model__learning_rate=0.17714848818434778, model__max_depth=7, model__min_child_weight=8, model__n_estimators=134, model__reg_alpha=0.780666282583287, model__reg_lambda=0.1982881071848237, model__subsample=0.573829947566449; total time=  49.3s\n",
      "[CV] END model__colsample_bytree=0.5587314447293206, model__gamma=0.09656013427529242, model__learning_rate=0.17714848818434778, model__max_depth=7, model__min_child_weight=8, model__n_estimators=134, model__reg_alpha=0.780666282583287, model__reg_lambda=0.1982881071848237, model__subsample=0.573829947566449; total time=  47.6s\n",
      "[CV] END model__colsample_bytree=0.5913153595285845, model__gamma=0.2500828799794922, model__learning_rate=0.12103969961157442, model__max_depth=6, model__min_child_weight=6, model__n_estimators=430, model__reg_alpha=0.7012973971034091, model__reg_lambda=0.5858107381173175, model__subsample=0.596106212479603; total time= 2.3min\n",
      "[CV] END model__colsample_bytree=0.5587314447293206, model__gamma=0.09656013427529242, model__learning_rate=0.17714848818434778, model__max_depth=7, model__min_child_weight=8, model__n_estimators=134, model__reg_alpha=0.780666282583287, model__reg_lambda=0.1982881071848237, model__subsample=0.573829947566449; total time=  48.5s\n",
      "[CV] END model__colsample_bytree=0.8592476165640828, model__gamma=0.0863464735226332, model__learning_rate=0.0757737310174214, model__max_depth=5, model__min_child_weight=4, model__n_estimators=265, model__reg_alpha=0.9704797352679557, model__reg_lambda=0.4745776888451906, model__subsample=0.5195384891201016; total time= 1.5min\n",
      "[CV] END model__colsample_bytree=0.8592476165640828, model__gamma=0.0863464735226332, model__learning_rate=0.0757737310174214, model__max_depth=5, model__min_child_weight=4, model__n_estimators=265, model__reg_alpha=0.9704797352679557, model__reg_lambda=0.4745776888451906, model__subsample=0.5195384891201016; total time= 1.5min\n",
      "[CV] END model__colsample_bytree=0.8592476165640828, model__gamma=0.0863464735226332, model__learning_rate=0.0757737310174214, model__max_depth=5, model__min_child_weight=4, model__n_estimators=265, model__reg_alpha=0.9704797352679557, model__reg_lambda=0.4745776888451906, model__subsample=0.5195384891201016; total time= 1.5min\n",
      "[CV] END model__colsample_bytree=0.8592476165640828, model__gamma=0.0863464735226332, model__learning_rate=0.0757737310174214, model__max_depth=5, model__min_child_weight=4, model__n_estimators=265, model__reg_alpha=0.9704797352679557, model__reg_lambda=0.4745776888451906, model__subsample=0.5195384891201016; total time= 1.5min\n",
      "[CV] END model__colsample_bytree=0.8592476165640828, model__gamma=0.0863464735226332, model__learning_rate=0.0757737310174214, model__max_depth=5, model__min_child_weight=4, model__n_estimators=265, model__reg_alpha=0.9704797352679557, model__reg_lambda=0.4745776888451906, model__subsample=0.5195384891201016; total time= 1.5min\n",
      "[CV] END model__colsample_bytree=0.7757567807019523, model__gamma=0.060031979408016745, model__learning_rate=0.21487276343571104, model__max_depth=4, model__min_child_weight=3, model__n_estimators=278, model__reg_alpha=0.8951877701532924, model__reg_lambda=0.41186555380945633, model__subsample=0.5413758214706629; total time= 1.5min\n",
      "[CV] END model__colsample_bytree=0.7757567807019523, model__gamma=0.060031979408016745, model__learning_rate=0.21487276343571104, model__max_depth=4, model__min_child_weight=3, model__n_estimators=278, model__reg_alpha=0.8951877701532924, model__reg_lambda=0.41186555380945633, model__subsample=0.5413758214706629; total time= 1.4min\n",
      "[CV] END model__colsample_bytree=0.7757567807019523, model__gamma=0.060031979408016745, model__learning_rate=0.21487276343571104, model__max_depth=4, model__min_child_weight=3, model__n_estimators=278, model__reg_alpha=0.8951877701532924, model__reg_lambda=0.41186555380945633, model__subsample=0.5413758214706629; total time= 1.6min\n",
      "[CV] END model__colsample_bytree=0.743900037904123, model__gamma=0.0017954456074101843, model__learning_rate=0.071625980024909, model__max_depth=4, model__min_child_weight=1, model__n_estimators=88, model__reg_alpha=0.6538713437302797, model__reg_lambda=0.8428364653437526, model__subsample=0.9707658881035961; total time=  30.4s\n",
      "[CV] END model__colsample_bytree=0.743900037904123, model__gamma=0.0017954456074101843, model__learning_rate=0.071625980024909, model__max_depth=4, model__min_child_weight=1, model__n_estimators=88, model__reg_alpha=0.6538713437302797, model__reg_lambda=0.8428364653437526, model__subsample=0.9707658881035961; total time=  30.7s\n",
      "[CV] END model__colsample_bytree=0.743900037904123, model__gamma=0.0017954456074101843, model__learning_rate=0.071625980024909, model__max_depth=4, model__min_child_weight=1, model__n_estimators=88, model__reg_alpha=0.6538713437302797, model__reg_lambda=0.8428364653437526, model__subsample=0.9707658881035961; total time=  30.4s\n",
      "[CV] END model__colsample_bytree=0.7757567807019523, model__gamma=0.060031979408016745, model__learning_rate=0.21487276343571104, model__max_depth=4, model__min_child_weight=3, model__n_estimators=278, model__reg_alpha=0.8951877701532924, model__reg_lambda=0.41186555380945633, model__subsample=0.5413758214706629; total time= 1.4min\n",
      "[CV] END model__colsample_bytree=0.7757567807019523, model__gamma=0.060031979408016745, model__learning_rate=0.21487276343571104, model__max_depth=4, model__min_child_weight=3, model__n_estimators=278, model__reg_alpha=0.8951877701532924, model__reg_lambda=0.41186555380945633, model__subsample=0.5413758214706629; total time= 1.5min\n",
      "[CV] END model__colsample_bytree=0.743900037904123, model__gamma=0.0017954456074101843, model__learning_rate=0.071625980024909, model__max_depth=4, model__min_child_weight=1, model__n_estimators=88, model__reg_alpha=0.6538713437302797, model__reg_lambda=0.8428364653437526, model__subsample=0.9707658881035961; total time=  30.7s\n",
      "[CV] END model__colsample_bytree=0.743900037904123, model__gamma=0.0017954456074101843, model__learning_rate=0.071625980024909, model__max_depth=4, model__min_child_weight=1, model__n_estimators=88, model__reg_alpha=0.6538713437302797, model__reg_lambda=0.8428364653437526, model__subsample=0.9707658881035961; total time=  30.2s\n",
      "[CV] END model__colsample_bytree=0.8519176250172447, model__gamma=0.002849410136882391, model__learning_rate=0.2982835348479076, model__max_depth=7, model__min_child_weight=7, model__n_estimators=429, model__reg_alpha=0.55436514579856, model__reg_lambda=0.5652072500788897, model__subsample=0.7585958293222055; total time= 2.4min\n",
      "[CV] END model__colsample_bytree=0.8519176250172447, model__gamma=0.002849410136882391, model__learning_rate=0.2982835348479076, model__max_depth=7, model__min_child_weight=7, model__n_estimators=429, model__reg_alpha=0.55436514579856, model__reg_lambda=0.5652072500788897, model__subsample=0.7585958293222055; total time= 2.4min\n",
      "[CV] END model__colsample_bytree=0.8519176250172447, model__gamma=0.002849410136882391, model__learning_rate=0.2982835348479076, model__max_depth=7, model__min_child_weight=7, model__n_estimators=429, model__reg_alpha=0.55436514579856, model__reg_lambda=0.5652072500788897, model__subsample=0.7585958293222055; total time= 2.4min\n",
      "[CV] END model__colsample_bytree=0.8519176250172447, model__gamma=0.002849410136882391, model__learning_rate=0.2982835348479076, model__max_depth=7, model__min_child_weight=7, model__n_estimators=429, model__reg_alpha=0.55436514579856, model__reg_lambda=0.5652072500788897, model__subsample=0.7585958293222055; total time= 2.6min\n",
      "[CV] END model__colsample_bytree=0.9628363361655183, model__gamma=0.29098332104950564, model__learning_rate=0.06346795627401722, model__max_depth=4, model__min_child_weight=7, model__n_estimators=115, model__reg_alpha=0.41313204128451453, model__reg_lambda=0.9556399151001306, model__subsample=0.8872364121404903; total time=  37.7s\n",
      "[CV] END model__colsample_bytree=0.9628363361655183, model__gamma=0.29098332104950564, model__learning_rate=0.06346795627401722, model__max_depth=4, model__min_child_weight=7, model__n_estimators=115, model__reg_alpha=0.41313204128451453, model__reg_lambda=0.9556399151001306, model__subsample=0.8872364121404903; total time=  37.9s\n",
      "[CV] END model__colsample_bytree=0.9628363361655183, model__gamma=0.29098332104950564, model__learning_rate=0.06346795627401722, model__max_depth=4, model__min_child_weight=7, model__n_estimators=115, model__reg_alpha=0.41313204128451453, model__reg_lambda=0.9556399151001306, model__subsample=0.8872364121404903; total time=  37.5s\n",
      "[CV] END model__colsample_bytree=0.9628363361655183, model__gamma=0.29098332104950564, model__learning_rate=0.06346795627401722, model__max_depth=4, model__min_child_weight=7, model__n_estimators=115, model__reg_alpha=0.41313204128451453, model__reg_lambda=0.9556399151001306, model__subsample=0.8872364121404903; total time=  37.4s\n",
      "[CV] END model__colsample_bytree=0.9628363361655183, model__gamma=0.29098332104950564, model__learning_rate=0.06346795627401722, model__max_depth=4, model__min_child_weight=7, model__n_estimators=115, model__reg_alpha=0.41313204128451453, model__reg_lambda=0.9556399151001306, model__subsample=0.8872364121404903; total time=  37.5s\n",
      "[CV] END model__colsample_bytree=0.7058967048451483, model__gamma=0.021153809852821448, model__learning_rate=0.16557931022535058, model__max_depth=8, model__min_child_weight=7, model__n_estimators=97, model__reg_alpha=0.4494778155098321, model__reg_lambda=0.9701955858487169, model__subsample=0.9801853029951832; total time=  38.6s\n",
      "[CV] END model__colsample_bytree=0.7058967048451483, model__gamma=0.021153809852821448, model__learning_rate=0.16557931022535058, model__max_depth=8, model__min_child_weight=7, model__n_estimators=97, model__reg_alpha=0.4494778155098321, model__reg_lambda=0.9701955858487169, model__subsample=0.9801853029951832; total time=  39.0s\n",
      "[CV] END model__colsample_bytree=0.7058967048451483, model__gamma=0.021153809852821448, model__learning_rate=0.16557931022535058, model__max_depth=8, model__min_child_weight=7, model__n_estimators=97, model__reg_alpha=0.4494778155098321, model__reg_lambda=0.9701955858487169, model__subsample=0.9801853029951832; total time=  39.9s\n",
      "[CV] END model__colsample_bytree=0.8519176250172447, model__gamma=0.002849410136882391, model__learning_rate=0.2982835348479076, model__max_depth=7, model__min_child_weight=7, model__n_estimators=429, model__reg_alpha=0.55436514579856, model__reg_lambda=0.5652072500788897, model__subsample=0.7585958293222055; total time= 2.4min\n",
      "[CV] END model__colsample_bytree=0.7058967048451483, model__gamma=0.021153809852821448, model__learning_rate=0.16557931022535058, model__max_depth=8, model__min_child_weight=7, model__n_estimators=97, model__reg_alpha=0.4494778155098321, model__reg_lambda=0.9701955858487169, model__subsample=0.9801853029951832; total time=  40.7s\n",
      "[CV] END model__colsample_bytree=0.7058967048451483, model__gamma=0.021153809852821448, model__learning_rate=0.16557931022535058, model__max_depth=8, model__min_child_weight=7, model__n_estimators=97, model__reg_alpha=0.4494778155098321, model__reg_lambda=0.9701955858487169, model__subsample=0.9801853029951832; total time=  40.0s\n",
      "[CV] END model__colsample_bytree=0.9282630592862979, model__gamma=0.38846207718875314, model__learning_rate=0.3020467488008388, model__max_depth=4, model__min_child_weight=8, model__n_estimators=128, model__reg_alpha=0.24643662179490777, model__reg_lambda=0.8181336521451533, model__subsample=0.6475531331094737; total time=  43.4s\n",
      "[CV] END model__colsample_bytree=0.9282630592862979, model__gamma=0.38846207718875314, model__learning_rate=0.3020467488008388, model__max_depth=4, model__min_child_weight=8, model__n_estimators=128, model__reg_alpha=0.24643662179490777, model__reg_lambda=0.8181336521451533, model__subsample=0.6475531331094737; total time=  40.9s\n",
      "[CV] END model__colsample_bytree=0.9282630592862979, model__gamma=0.38846207718875314, model__learning_rate=0.3020467488008388, model__max_depth=4, model__min_child_weight=8, model__n_estimators=128, model__reg_alpha=0.24643662179490777, model__reg_lambda=0.8181336521451533, model__subsample=0.6475531331094737; total time=  42.4s\n",
      "[CV] END model__colsample_bytree=0.9282630592862979, model__gamma=0.38846207718875314, model__learning_rate=0.3020467488008388, model__max_depth=4, model__min_child_weight=8, model__n_estimators=128, model__reg_alpha=0.24643662179490777, model__reg_lambda=0.8181336521451533, model__subsample=0.6475531331094737; total time=  40.1s\n",
      "[CV] END model__colsample_bytree=0.9282630592862979, model__gamma=0.38846207718875314, model__learning_rate=0.3020467488008388, model__max_depth=4, model__min_child_weight=8, model__n_estimators=128, model__reg_alpha=0.24643662179490777, model__reg_lambda=0.8181336521451533, model__subsample=0.6475531331094737; total time=  40.6s\n",
      "[CV] END model__colsample_bytree=0.6977703139374876, model__gamma=0.12446043027621784, model__learning_rate=0.225809612889414, model__max_depth=3, model__min_child_weight=8, model__n_estimators=266, model__reg_alpha=0.7336035680673274, model__reg_lambda=0.2232599108163298, model__subsample=0.6295009277459291; total time= 1.2min\n",
      "[CV] END model__colsample_bytree=0.6977703139374876, model__gamma=0.12446043027621784, model__learning_rate=0.225809612889414, model__max_depth=3, model__min_child_weight=8, model__n_estimators=266, model__reg_alpha=0.7336035680673274, model__reg_lambda=0.2232599108163298, model__subsample=0.6295009277459291; total time= 1.3min\n",
      "[CV] END model__colsample_bytree=0.6977703139374876, model__gamma=0.12446043027621784, model__learning_rate=0.225809612889414, model__max_depth=3, model__min_child_weight=8, model__n_estimators=266, model__reg_alpha=0.7336035680673274, model__reg_lambda=0.2232599108163298, model__subsample=0.6295009277459291; total time= 1.2min\n",
      "[CV] END model__colsample_bytree=0.6977703139374876, model__gamma=0.12446043027621784, model__learning_rate=0.225809612889414, model__max_depth=3, model__min_child_weight=8, model__n_estimators=266, model__reg_alpha=0.7336035680673274, model__reg_lambda=0.2232599108163298, model__subsample=0.6295009277459291; total time= 1.3min\n",
      "[CV] END model__colsample_bytree=0.6977703139374876, model__gamma=0.12446043027621784, model__learning_rate=0.225809612889414, model__max_depth=3, model__min_child_weight=8, model__n_estimators=266, model__reg_alpha=0.7336035680673274, model__reg_lambda=0.2232599108163298, model__subsample=0.6295009277459291; total time= 1.2min\n",
      "[CV] END model__colsample_bytree=0.9877780769665435, model__gamma=0.4376747741088647, model__learning_rate=0.26816087454958754, model__max_depth=8, model__min_child_weight=3, model__n_estimators=424, model__reg_alpha=0.3718397585656569, model__reg_lambda=0.6365157289731889, model__subsample=0.6121900355408365; total time= 1.8min\n",
      "[CV] END model__colsample_bytree=0.9877780769665435, model__gamma=0.4376747741088647, model__learning_rate=0.26816087454958754, model__max_depth=8, model__min_child_weight=3, model__n_estimators=424, model__reg_alpha=0.3718397585656569, model__reg_lambda=0.6365157289731889, model__subsample=0.6121900355408365; total time= 1.9min\n",
      "[CV] END model__colsample_bytree=0.9877780769665435, model__gamma=0.4376747741088647, model__learning_rate=0.26816087454958754, model__max_depth=8, model__min_child_weight=3, model__n_estimators=424, model__reg_alpha=0.3718397585656569, model__reg_lambda=0.6365157289731889, model__subsample=0.6121900355408365; total time= 1.9min\n",
      "[CV] END model__colsample_bytree=0.9877780769665435, model__gamma=0.4376747741088647, model__learning_rate=0.26816087454958754, model__max_depth=8, model__min_child_weight=3, model__n_estimators=424, model__reg_alpha=0.3718397585656569, model__reg_lambda=0.6365157289731889, model__subsample=0.6121900355408365; total time= 1.9min\n",
      "[CV] END model__colsample_bytree=0.9877780769665435, model__gamma=0.4376747741088647, model__learning_rate=0.26816087454958754, model__max_depth=8, model__min_child_weight=3, model__n_estimators=424, model__reg_alpha=0.3718397585656569, model__reg_lambda=0.6365157289731889, model__subsample=0.6121900355408365; total time= 1.8min\n",
      "[CV] END model__colsample_bytree=0.9077662581602111, model__gamma=0.18115814193782925, model__learning_rate=0.26222101474955656, model__max_depth=6, model__min_child_weight=4, model__n_estimators=398, model__reg_alpha=0.8693251947618384, model__reg_lambda=0.9769644766547557, model__subsample=0.5383852674696238; total time= 2.1min\n",
      "[CV] END model__colsample_bytree=0.9077662581602111, model__gamma=0.18115814193782925, model__learning_rate=0.26222101474955656, model__max_depth=6, model__min_child_weight=4, model__n_estimators=398, model__reg_alpha=0.8693251947618384, model__reg_lambda=0.9769644766547557, model__subsample=0.5383852674696238; total time= 2.2min\n",
      "[CV] END model__colsample_bytree=0.9077662581602111, model__gamma=0.18115814193782925, model__learning_rate=0.26222101474955656, model__max_depth=6, model__min_child_weight=4, model__n_estimators=398, model__reg_alpha=0.8693251947618384, model__reg_lambda=0.9769644766547557, model__subsample=0.5383852674696238; total time= 2.1min\n",
      "[CV] END model__colsample_bytree=0.563342217684409, model__gamma=0.22497065187831222, model__learning_rate=0.219064491442284, model__max_depth=7, model__min_child_weight=2, model__n_estimators=188, model__reg_alpha=0.9260298843401175, model__reg_lambda=0.8763169640232829, model__subsample=0.8805274202833082; total time=  54.7s\n",
      "[CV] END model__colsample_bytree=0.9077662581602111, model__gamma=0.18115814193782925, model__learning_rate=0.26222101474955656, model__max_depth=6, model__min_child_weight=4, model__n_estimators=398, model__reg_alpha=0.8693251947618384, model__reg_lambda=0.9769644766547557, model__subsample=0.5383852674696238; total time= 2.1min\n",
      "[CV] END model__colsample_bytree=0.563342217684409, model__gamma=0.22497065187831222, model__learning_rate=0.219064491442284, model__max_depth=7, model__min_child_weight=2, model__n_estimators=188, model__reg_alpha=0.9260298843401175, model__reg_lambda=0.8763169640232829, model__subsample=0.8805274202833082; total time=  56.2s\n",
      "[CV] END model__colsample_bytree=0.9077662581602111, model__gamma=0.18115814193782925, model__learning_rate=0.26222101474955656, model__max_depth=6, model__min_child_weight=4, model__n_estimators=398, model__reg_alpha=0.8693251947618384, model__reg_lambda=0.9769644766547557, model__subsample=0.5383852674696238; total time= 2.2min\n",
      "[CV] END model__colsample_bytree=0.563342217684409, model__gamma=0.22497065187831222, model__learning_rate=0.219064491442284, model__max_depth=7, model__min_child_weight=2, model__n_estimators=188, model__reg_alpha=0.9260298843401175, model__reg_lambda=0.8763169640232829, model__subsample=0.8805274202833082; total time=  55.4s\n",
      "[CV] END model__colsample_bytree=0.563342217684409, model__gamma=0.22497065187831222, model__learning_rate=0.219064491442284, model__max_depth=7, model__min_child_weight=2, model__n_estimators=188, model__reg_alpha=0.9260298843401175, model__reg_lambda=0.8763169640232829, model__subsample=0.8805274202833082; total time=  53.5s\n",
      "[CV] END model__colsample_bytree=0.563342217684409, model__gamma=0.22497065187831222, model__learning_rate=0.219064491442284, model__max_depth=7, model__min_child_weight=2, model__n_estimators=188, model__reg_alpha=0.9260298843401175, model__reg_lambda=0.8763169640232829, model__subsample=0.8805274202833082; total time=  53.9s\n",
      "[CV] END model__colsample_bytree=0.5285464783520768, model__gamma=0.47150941233446825, model__learning_rate=0.15562574511374067, model__max_depth=3, model__min_child_weight=5, model__n_estimators=296, model__reg_alpha=0.8810161910643216, model__reg_lambda=0.30184115898498765, model__subsample=0.6461104703327525; total time= 1.3min\n",
      "[CV] END model__colsample_bytree=0.5285464783520768, model__gamma=0.47150941233446825, model__learning_rate=0.15562574511374067, model__max_depth=3, model__min_child_weight=5, model__n_estimators=296, model__reg_alpha=0.8810161910643216, model__reg_lambda=0.30184115898498765, model__subsample=0.6461104703327525; total time= 1.3min\n",
      "[CV] END model__colsample_bytree=0.5285464783520768, model__gamma=0.47150941233446825, model__learning_rate=0.15562574511374067, model__max_depth=3, model__min_child_weight=5, model__n_estimators=296, model__reg_alpha=0.8810161910643216, model__reg_lambda=0.30184115898498765, model__subsample=0.6461104703327525; total time= 1.3min\n",
      "[CV] END model__colsample_bytree=0.5285464783520768, model__gamma=0.47150941233446825, model__learning_rate=0.15562574511374067, model__max_depth=3, model__min_child_weight=5, model__n_estimators=296, model__reg_alpha=0.8810161910643216, model__reg_lambda=0.30184115898498765, model__subsample=0.6461104703327525; total time= 1.3min\n",
      "[CV] END model__colsample_bytree=0.5285464783520768, model__gamma=0.47150941233446825, model__learning_rate=0.15562574511374067, model__max_depth=3, model__min_child_weight=5, model__n_estimators=296, model__reg_alpha=0.8810161910643216, model__reg_lambda=0.30184115898498765, model__subsample=0.6461104703327525; total time= 1.4min\n",
      "[CV] END model__colsample_bytree=0.579940686231714, model__gamma=0.3131149593535562, model__learning_rate=0.13972124896419788, model__max_depth=4, model__min_child_weight=2, model__n_estimators=269, model__reg_alpha=0.5668656272383001, model__reg_lambda=0.9126001755942452, model__subsample=0.7854633675697087; total time= 1.3min\n",
      "[CV] END model__colsample_bytree=0.579940686231714, model__gamma=0.3131149593535562, model__learning_rate=0.13972124896419788, model__max_depth=4, model__min_child_weight=2, model__n_estimators=269, model__reg_alpha=0.5668656272383001, model__reg_lambda=0.9126001755942452, model__subsample=0.7854633675697087; total time= 1.3min\n",
      "[CV] END model__colsample_bytree=0.579940686231714, model__gamma=0.3131149593535562, model__learning_rate=0.13972124896419788, model__max_depth=4, model__min_child_weight=2, model__n_estimators=269, model__reg_alpha=0.5668656272383001, model__reg_lambda=0.9126001755942452, model__subsample=0.7854633675697087; total time= 1.3min\n",
      "[CV] END model__colsample_bytree=0.579940686231714, model__gamma=0.3131149593535562, model__learning_rate=0.13972124896419788, model__max_depth=4, model__min_child_weight=2, model__n_estimators=269, model__reg_alpha=0.5668656272383001, model__reg_lambda=0.9126001755942452, model__subsample=0.7854633675697087; total time= 1.3min\n",
      "[CV] END model__colsample_bytree=0.579940686231714, model__gamma=0.3131149593535562, model__learning_rate=0.13972124896419788, model__max_depth=4, model__min_child_weight=2, model__n_estimators=269, model__reg_alpha=0.5668656272383001, model__reg_lambda=0.9126001755942452, model__subsample=0.7854633675697087; total time= 1.3min\n",
      "[CV] END model__colsample_bytree=0.5237740519166612, model__gamma=0.0474609606657212, model__learning_rate=0.19786925507634157, model__max_depth=9, model__min_child_weight=9, model__n_estimators=393, model__reg_alpha=0.6814431520729755, model__reg_lambda=0.9987507532306841, model__subsample=0.7396834916610984; total time= 2.2min\n",
      "[CV] END model__colsample_bytree=0.5237740519166612, model__gamma=0.0474609606657212, model__learning_rate=0.19786925507634157, model__max_depth=9, model__min_child_weight=9, model__n_estimators=393, model__reg_alpha=0.6814431520729755, model__reg_lambda=0.9987507532306841, model__subsample=0.7396834916610984; total time= 2.3min\n",
      "[CV] END model__colsample_bytree=0.5237740519166612, model__gamma=0.0474609606657212, model__learning_rate=0.19786925507634157, model__max_depth=9, model__min_child_weight=9, model__n_estimators=393, model__reg_alpha=0.6814431520729755, model__reg_lambda=0.9987507532306841, model__subsample=0.7396834916610984; total time= 2.2min\n",
      "[CV] END model__colsample_bytree=0.5237740519166612, model__gamma=0.0474609606657212, model__learning_rate=0.19786925507634157, model__max_depth=9, model__min_child_weight=9, model__n_estimators=393, model__reg_alpha=0.6814431520729755, model__reg_lambda=0.9987507532306841, model__subsample=0.7396834916610984; total time= 2.2min\n",
      "[CV] END model__colsample_bytree=0.7732879203245822, model__gamma=0.31592094136986737, model__learning_rate=0.19863811182669694, model__max_depth=4, model__min_child_weight=6, model__n_estimators=274, model__reg_alpha=0.5461365771189468, model__reg_lambda=0.4535682011391883, model__subsample=0.842839109082457; total time= 1.3min\n",
      "[CV] END model__colsample_bytree=0.5237740519166612, model__gamma=0.0474609606657212, model__learning_rate=0.19786925507634157, model__max_depth=9, model__min_child_weight=9, model__n_estimators=393, model__reg_alpha=0.6814431520729755, model__reg_lambda=0.9987507532306841, model__subsample=0.7396834916610984; total time= 2.1min\n",
      "[CV] END model__colsample_bytree=0.7732879203245822, model__gamma=0.31592094136986737, model__learning_rate=0.19863811182669694, model__max_depth=4, model__min_child_weight=6, model__n_estimators=274, model__reg_alpha=0.5461365771189468, model__reg_lambda=0.4535682011391883, model__subsample=0.842839109082457; total time= 1.3min\n",
      "[CV] END model__colsample_bytree=0.7732879203245822, model__gamma=0.31592094136986737, model__learning_rate=0.19863811182669694, model__max_depth=4, model__min_child_weight=6, model__n_estimators=274, model__reg_alpha=0.5461365771189468, model__reg_lambda=0.4535682011391883, model__subsample=0.842839109082457; total time= 1.3min\n",
      "[CV] END model__colsample_bytree=0.7732879203245822, model__gamma=0.31592094136986737, model__learning_rate=0.19863811182669694, model__max_depth=4, model__min_child_weight=6, model__n_estimators=274, model__reg_alpha=0.5461365771189468, model__reg_lambda=0.4535682011391883, model__subsample=0.842839109082457; total time= 1.3min\n",
      "[CV] END model__colsample_bytree=0.7732879203245822, model__gamma=0.31592094136986737, model__learning_rate=0.19863811182669694, model__max_depth=4, model__min_child_weight=6, model__n_estimators=274, model__reg_alpha=0.5461365771189468, model__reg_lambda=0.4535682011391883, model__subsample=0.842839109082457; total time= 1.3min\n",
      "[CV] END model__colsample_bytree=0.7769714889842767, model__gamma=0.01588154393563007, model__learning_rate=0.2520710494596522, model__max_depth=7, model__min_child_weight=1, model__n_estimators=235, model__reg_alpha=0.06933682773158656, model__reg_lambda=0.9532132439879428, model__subsample=0.9577182805961378; total time= 1.4min\n",
      "[CV] END model__colsample_bytree=0.7769714889842767, model__gamma=0.01588154393563007, model__learning_rate=0.2520710494596522, model__max_depth=7, model__min_child_weight=1, model__n_estimators=235, model__reg_alpha=0.06933682773158656, model__reg_lambda=0.9532132439879428, model__subsample=0.9577182805961378; total time= 1.4min\n",
      "[CV] END model__colsample_bytree=0.9754397723991144, model__gamma=0.17355493011800954, model__learning_rate=0.1665541878983706, model__max_depth=3, model__min_child_weight=4, model__n_estimators=74, model__reg_alpha=0.7947502475352203, model__reg_lambda=0.12975863753974148, model__subsample=0.9443158498264699; total time=  22.8s\n",
      "[CV] END model__colsample_bytree=0.9754397723991144, model__gamma=0.17355493011800954, model__learning_rate=0.1665541878983706, model__max_depth=3, model__min_child_weight=4, model__n_estimators=74, model__reg_alpha=0.7947502475352203, model__reg_lambda=0.12975863753974148, model__subsample=0.9443158498264699; total time=  23.1s\n",
      "[CV] END model__colsample_bytree=0.7769714889842767, model__gamma=0.01588154393563007, model__learning_rate=0.2520710494596522, model__max_depth=7, model__min_child_weight=1, model__n_estimators=235, model__reg_alpha=0.06933682773158656, model__reg_lambda=0.9532132439879428, model__subsample=0.9577182805961378; total time= 1.5min\n",
      "[CV] END model__colsample_bytree=0.9754397723991144, model__gamma=0.17355493011800954, model__learning_rate=0.1665541878983706, model__max_depth=3, model__min_child_weight=4, model__n_estimators=74, model__reg_alpha=0.7947502475352203, model__reg_lambda=0.12975863753974148, model__subsample=0.9443158498264699; total time=  23.5s\n",
      "[CV] END model__colsample_bytree=0.9754397723991144, model__gamma=0.17355493011800954, model__learning_rate=0.1665541878983706, model__max_depth=3, model__min_child_weight=4, model__n_estimators=74, model__reg_alpha=0.7947502475352203, model__reg_lambda=0.12975863753974148, model__subsample=0.9443158498264699; total time=  22.5s\n",
      "[CV] END model__colsample_bytree=0.7769714889842767, model__gamma=0.01588154393563007, model__learning_rate=0.2520710494596522, model__max_depth=7, model__min_child_weight=1, model__n_estimators=235, model__reg_alpha=0.06933682773158656, model__reg_lambda=0.9532132439879428, model__subsample=0.9577182805961378; total time= 1.4min\n",
      "[CV] END model__colsample_bytree=0.7769714889842767, model__gamma=0.01588154393563007, model__learning_rate=0.2520710494596522, model__max_depth=7, model__min_child_weight=1, model__n_estimators=235, model__reg_alpha=0.06933682773158656, model__reg_lambda=0.9532132439879428, model__subsample=0.9577182805961378; total time= 1.4min\n",
      "[CV] END model__colsample_bytree=0.9754397723991144, model__gamma=0.17355493011800954, model__learning_rate=0.1665541878983706, model__max_depth=3, model__min_child_weight=4, model__n_estimators=74, model__reg_alpha=0.7947502475352203, model__reg_lambda=0.12975863753974148, model__subsample=0.9443158498264699; total time=  21.8s\n",
      "Melhores hiperparâmetros encontrados:\n",
      "{'model__colsample_bytree': np.float64(0.8076452259701364), 'model__gamma': np.float64(0.09506525327198412), 'model__learning_rate': np.float64(0.10471660557530932), 'model__max_depth': 7, 'model__min_child_weight': 1, 'model__n_estimators': 278, 'model__reg_alpha': np.float64(0.7883652496224248), 'model__reg_lambda': np.float64(0.41824740488863255), 'model__subsample': np.float64(0.9331966543461702)}\n",
      "Melhor score ROC AUC:\n",
      "0.9991267120102479\n"
     ]
    }
   ],
   "source": [
    "## DO NOT RUN THIS CELL WILL TAKE FOREVER TO FINISH\n",
    "# random_search.fit(X_train, y_train)\n",
    "\n",
    "# print(\"Melhores hiperparâmetros encontrados:\")\n",
    "# print(random_search.best_params_)\n",
    "\n",
    "# print(\"Melhor score ROC AUC:\")\n",
    "# print(random_search.best_score_)"
   ]
  },
  {
   "cell_type": "code",
   "execution_count": 9,
   "metadata": {},
   "outputs": [
    {
     "name": "stdout",
     "output_type": "stream",
     "text": [
      "\n",
      "      Accuracy: 0.994\n",
      "      Recall: 0.996\n",
      "      Precision: 0.991\n",
      "      F1 Score: 0.994\n",
      "      ROC AUC: 0.994\n",
      "      \n"
     ]
    }
   ],
   "source": [
    "y_pred = random_search.best_estimator_.predict(X_test)\n",
    "\n",
    "# Metrics in the test dataset\n",
    "accuracy_under = accuracy_score(y_test, y_pred)\n",
    "recall_under = recall_score(y_test, y_pred)\n",
    "precision_under = precision_score(y_test, y_pred)\n",
    "f1_under = f1_score(y_test, y_pred)\n",
    "roc_auc_under = roc_auc_score(y_test, y_pred)\n",
    "\n",
    "print(f\"\"\"\n",
    "      Accuracy: {round(accuracy_under, 3)}\n",
    "      Recall: {round(recall_under, 3)}\n",
    "      Precision: {round(precision_under, 3)}\n",
    "      F1 Score: {round(f1_under, 3)}\n",
    "      ROC AUC: {round(roc_auc_under, 3)}\n",
    "      \"\"\")"
   ]
  },
  {
   "cell_type": "code",
   "execution_count": 11,
   "metadata": {},
   "outputs": [
    {
     "name": "stdout",
     "output_type": "stream",
     "text": [
      "Accuracy : 0.991248097412481\n",
      "Recall : 0.9966619536343462\n",
      "Precision : 0.9860618765609758\n",
      "AVG_Precision : 0.9991999892927403\n"
     ]
    }
   ],
   "source": [
    "cross_val = cross_validate(random_search.best_estimator_, X_train, y_train, scoring = ['accuracy', 'recall', 'precision', 'average_precision'], cv=5)\n",
    "cross_val\n",
    "\n",
    "print(f\"Accuracy : {cross_val['test_accuracy'].mean()}\")\n",
    "print(f\"Recall : {cross_val['test_recall'].mean()}\")\n",
    "print(f\"Precision : {cross_val['test_precision'].mean()}\")\n",
    "print(f\"AVG_Precision : {cross_val['test_average_precision'].mean()}\")"
   ]
  },
  {
   "cell_type": "code",
   "execution_count": 12,
   "metadata": {},
   "outputs": [
    {
     "data": {
      "text/plain": [
       "{'model__colsample_bytree': np.float64(0.8076452259701364),\n",
       " 'model__gamma': np.float64(0.09506525327198412),\n",
       " 'model__learning_rate': np.float64(0.10471660557530932),\n",
       " 'model__max_depth': 7,\n",
       " 'model__min_child_weight': 1,\n",
       " 'model__n_estimators': 278,\n",
       " 'model__reg_alpha': np.float64(0.7883652496224248),\n",
       " 'model__reg_lambda': np.float64(0.41824740488863255),\n",
       " 'model__subsample': np.float64(0.9331966543461702)}"
      ]
     },
     "execution_count": 12,
     "metadata": {},
     "output_type": "execute_result"
    }
   ],
   "source": [
    "random_search.best_params_"
   ]
  },
  {
   "cell_type": "markdown",
   "metadata": {},
   "source": [
    "### UnderSampling + OverSampling"
   ]
  },
  {
   "cell_type": "code",
   "execution_count": 7,
   "metadata": {},
   "outputs": [],
   "source": [
    "# Selecting columns by type\n",
    "numeric_columns = make_column_selector(dtype_include=['int64', 'float64'])\n",
    "categorical_columns = make_column_selector(dtype_include=['object'])\n",
    "\n",
    "# Standard scaling for  the numerical features\n",
    "numeric_transformer = Pipeline(steps=[\n",
    "    ('scaler', StandardScaler())\n",
    "])\n",
    "\n",
    "# OHE for categorical features\n",
    "categorical_transformer = Pipeline(steps=[\n",
    "    ('onehot', OneHotEncoder(handle_unknown='ignore', sparse_output=False))\n",
    "])\n",
    "\n",
    "# Preprocessing column transformer\n",
    "preprocessor = ColumnTransformer(\n",
    "    transformers=[\n",
    "        ('num', numeric_transformer, numeric_columns),\n",
    "        ('cat', categorical_transformer, categorical_columns)\n",
    "    ]\n",
    ")\n",
    "\n",
    "# Creating model\n",
    "model = XGBClassifier(\n",
    "    gamma=0.1,\n",
    "    learning_rate=0.1,\n",
    "    n_estimators=500,\n",
    "    reg_lambda=1.0,\n",
    "    max_depth=6,\n",
    ")\n",
    "\n",
    "# Full pipe including SMOTE + UnderSampler\n",
    "full_pipe = ImbPipeline(steps=[\n",
    "    ('preprocessor', preprocessor),\n",
    "    ('smote', SMOTE(sampling_strategy=0.5)),\n",
    "    ('undersample', RandomUnderSampler(sampling_strategy=0.5)),\n",
    "    ('model', model)\n",
    "])\n"
   ]
  },
  {
   "cell_type": "code",
   "execution_count": 8,
   "metadata": {},
   "outputs": [],
   "source": [
    "X_train, X_test, y_train, y_test = train_test_split(X, y, test_size=0.3, stratify= y)"
   ]
  },
  {
   "cell_type": "markdown",
   "metadata": {},
   "source": [
    "Class distribution after SMOTE + RandomUnderSampler:\n",
    "\n",
    "1. The SMOTE will generate synthetic instances for class 1. The number of instances in class 1 will be increased to 50% of the number of instances in class 0. In other words, class 1 will have approximately 6354407 * 0.5 = 3177203 instances.\n",
    "\n",
    "\n",
    "2. The RandomUnderSampler will reduce the number of instances in class 0 to match the number of instances in class 1 after SMOTE. In other words, the number of instances in class 0 will be reduced to approximately 3177203.\n",
    "\n",
    "3. 3177203 is the final number of samples for each class"
   ]
  },
  {
   "cell_type": "code",
   "execution_count": 9,
   "metadata": {},
   "outputs": [],
   "source": [
    "full_pipe.fit(X_train, y_train)\n",
    "\n",
    "y_pred = full_pipe.predict(X_test)"
   ]
  },
  {
   "cell_type": "code",
   "execution_count": 10,
   "metadata": {},
   "outputs": [
    {
     "name": "stdout",
     "output_type": "stream",
     "text": [
      "\n",
      "      Accuracy: 1.0\n",
      "      Recall: 0.99\n",
      "      Precision: 0.47\n",
      "      F1 Score: 0.64\n",
      "      ROC AUC: 0.99\n",
      "      \n"
     ]
    }
   ],
   "source": [
    "# Metrics in the test dataset\n",
    "accuracy_5 = accuracy_score(y_test, y_pred)\n",
    "recall_5 = recall_score(y_test, y_pred)\n",
    "precision_5 = precision_score(y_test, y_pred)\n",
    "f1_5 = f1_score(y_test, y_pred)\n",
    "roc_auc_5 = roc_auc_score(y_test, y_pred)\n",
    "\n",
    "print(f\"\"\"\n",
    "      Accuracy: {round(accuracy_5, 2)}\n",
    "      Recall: {round(recall_5, 2)}\n",
    "      Precision: {round(precision_5, 2)}\n",
    "      F1 Score: {round(f1_5, 2)}\n",
    "      ROC AUC: {round(roc_auc_5, 2)}\n",
    "      \"\"\")\n"
   ]
  },
  {
   "cell_type": "code",
   "execution_count": 12,
   "metadata": {},
   "outputs": [
    {
     "name": "stdout",
     "output_type": "stream",
     "text": [
      "Accuracy : 0.9985408077397446\n",
      "Recall : 0.989041964657358\n",
      "Precision : 0.4693499231679585\n",
      "AVG_Precision : 0.9694806788108412\n",
      "F1 : 0.6365111873827679\n"
     ]
    }
   ],
   "source": [
    "# Stratified cross validation\n",
    "cv = StratifiedKFold(n_splits=5)\n",
    "\n",
    "cross_val = cross_validate(full_pipe, X_train, y_train, scoring = ['accuracy', 'recall', 'precision', 'average_precision', 'f1'], cv=cv)\n",
    "\n",
    "print(f\"Accuracy : {cross_val['test_accuracy'].mean()}\")\n",
    "print(f\"Recall : {cross_val['test_recall'].mean()}\")\n",
    "print(f\"Precision : {cross_val['test_precision'].mean()}\")\n",
    "print(f\"AVG_Precision : {cross_val['test_average_precision'].mean()}\")\n",
    "print(f\"F1 : {cross_val['test_f1'].mean()}\")"
   ]
  },
  {
   "cell_type": "code",
   "execution_count": null,
   "metadata": {},
   "outputs": [],
   "source": [
    "print(classification_report(y_test, y_pred))"
   ]
  },
  {
   "cell_type": "code",
   "execution_count": null,
   "metadata": {},
   "outputs": [],
   "source": [
    "y_pred_prob = full_pipe.predict_proba(X_test)[:,1]\n",
    "\n",
    "precision, recall, _ = precision_recall_curve(y_test, y_pred_prob)\n",
    "disp = PrecisionRecallDisplay(precision=precision, recall=recall)\n",
    "disp.plot()"
   ]
  },
  {
   "cell_type": "code",
   "execution_count": 104,
   "metadata": {},
   "outputs": [],
   "source": [
    "# Calculating pred_proba for 0.9 threshold\n",
    "threshold = .99\n",
    "y_pred_adjusted = (y_pred_prob >= threshold).astype(int)"
   ]
  },
  {
   "cell_type": "code",
   "execution_count": null,
   "metadata": {},
   "outputs": [],
   "source": [
    "# Scoring with threshold adjustment\n",
    "accuracy_9 = accuracy_score(y_test, y_pred_adjusted)\n",
    "recall_9 = recall_score(y_test, y_pred_adjusted)\n",
    "precision_9 = precision_score(y_test, y_pred_adjusted)\n",
    "f1_9 = f1_score(y_test, y_pred_adjusted)\n",
    "roc_auc_9 = roc_auc_score(y_test, y_pred_adjusted)\n",
    "\n",
    "print(\"Before threshold adjustment:\")\n",
    "\n",
    "print(f\"\"\"\n",
    "      Accuracy: {round(accuracy_5, 2)}\n",
    "      Recall: {round(recall_5, 2)}\n",
    "      Precision: {round(precision_5, 2)}\n",
    "      F1 Score: {round(f1_5, 2)}\n",
    "      ROC AUC: {round(roc_auc_5, 2)}\n",
    "      \"\"\")\n",
    "print(\"-\" *50)\n",
    "print(\"After threshold adjustment\")\n",
    "\n",
    "print(f\"\"\"\n",
    "      Accuracy: {round(accuracy_9, 2)}\n",
    "      Recall: {round(recall_9, 2)}\n",
    "      Precision: {round(precision_9, 2)}\n",
    "      F1 Score: {round(f1_9, 2)}\n",
    "      ROC AUC: {round(roc_auc_9, 2)}\n",
    "      \"\"\")"
   ]
  },
  {
   "cell_type": "code",
   "execution_count": null,
   "metadata": {},
   "outputs": [],
   "source": [
    "round(precision_9, 2)"
   ]
  },
  {
   "cell_type": "code",
   "execution_count": null,
   "metadata": {},
   "outputs": [],
   "source": [
    "param_dist = {\n",
    "    'model__learning_rate': [0.01, 0.1, 1],\n",
    "    'model__n_estimators': [100, 200, 300, 400, 500],\n",
    "    'model__max_depth': [3, 4, 5, 6, 7, 8, 9],\n",
    "    'model__min_child_weight': [1, 2, 3, 4, 5],\n",
    "    'model__subsample': [0.7, 0.8, 0.9, 1.0],\n",
    "    'model__colsample_bytree': [0.7, 0.8, 0.9, 1.0],\n",
    "    'model__scale_pos_weight': [1, 2, 5, 10],\n",
    "    'model__gamma': [0, 0.1, 0.2, 0.3, 0.4],\n",
    "    'model__reg_alpha': [0, 0.1, 0.5, 1],\n",
    "    'model__reg_lambda': [0, 0.1, 0.5, 1],\n",
    "    'smote__sampling_strategy': [0.3, 0.5, 0.7],\n",
    "    'undersample__sampling_strategy': [0.3, 0.5, 0.7],\n",
    "}\n",
    "\n",
    "# Configuração do RandomizedSearchCV\n",
    "random_search = RandomizedSearchCV(\n",
    "    estimator=full_pipe,\n",
    "    param_distributions=param_dist,\n",
    "    n_iter=50,\n",
    "    scoring='precision',\n",
    "    cv=cv,\n",
    "    verbose=1,\n",
    "    n_jobs=-1,\n",
    ")\n",
    "\n",
    "# Ajuste do modelo aos dados\n",
    "random_search.fit(X_train, y_train)"
   ]
  },
  {
   "cell_type": "code",
   "execution_count": null,
   "metadata": {},
   "outputs": [],
   "source": [
    "# Melhores parâmetros encontrados\n",
    "print(\"Melhores parâmetros encontrados:\", random_search.best_params_)\n",
    "\n",
    "# Melhor modelo treinado\n",
    "best_pipe = random_search.best_estimator_\n",
    "\n",
    "# Avaliação do modelo nos dados de teste\n",
    "precision = best_pipe.score(X_test, y_test)\n",
    "print(f\"Precision: {precision:.4f}\")"
   ]
  },
  {
   "cell_type": "code",
   "execution_count": null,
   "metadata": {},
   "outputs": [],
   "source": []
  }
 ],
 "metadata": {
  "kernelspec": {
   "display_name": "fraud-prediction",
   "language": "python",
   "name": "python3"
  },
  "language_info": {
   "codemirror_mode": {
    "name": "ipython",
    "version": 3
   },
   "file_extension": ".py",
   "mimetype": "text/x-python",
   "name": "python",
   "nbconvert_exporter": "python",
   "pygments_lexer": "ipython3",
   "version": "3.10.6"
  }
 },
 "nbformat": 4,
 "nbformat_minor": 2
}
